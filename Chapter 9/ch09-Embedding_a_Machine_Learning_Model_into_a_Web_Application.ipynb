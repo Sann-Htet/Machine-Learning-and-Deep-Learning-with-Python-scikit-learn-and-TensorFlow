{
 "cells": [
  {
   "cell_type": "markdown",
   "id": "03b7c4a5",
   "metadata": {},
   "source": [
    "# Chapter 8 recap - Training a model for movie review classification"
   ]
  },
  {
   "cell_type": "markdown",
   "id": "133c2d59",
   "metadata": {},
   "source": [
    "This section is a recap of the logistic regression model that was trained in the last section of Chapter 6. Execute the following code blocks to train a model that we will serialize in the next section."
   ]
  },
  {
   "cell_type": "markdown",
   "id": "0f7d5786",
   "metadata": {},
   "source": [
    "**Note**\n",
    "\n",
    "The code below is based on the `movie_data.csv` dataset that was created in Chapter 8"
   ]
  },
  {
   "cell_type": "code",
   "execution_count": 1,
   "id": "7dfc22db",
   "metadata": {},
   "outputs": [
    {
     "name": "stderr",
     "output_type": "stream",
     "text": [
      "[nltk_data] Error loading stopwords: <urlopen error [Errno -3]\n",
      "[nltk_data]     Temporary failure in name resolution>\n"
     ]
    },
    {
     "data": {
      "text/plain": [
       "False"
      ]
     },
     "execution_count": 1,
     "metadata": {},
     "output_type": "execute_result"
    }
   ],
   "source": [
    "import nltk\n",
    "nltk.download('stopwords')"
   ]
  },
  {
   "cell_type": "code",
   "execution_count": 2,
   "id": "e8688202",
   "metadata": {},
   "outputs": [],
   "source": [
    "import numpy as np\n",
    "import re\n",
    "from nltk.corpus import stopwords\n",
    "from nltk.stem import PorterStemmer\n",
    "\n",
    "stop = stopwords.words('english')\n",
    "porter = PorterStemmer()\n",
    "\n",
    "def tokenizer(text):\n",
    "    text = re.sub('<[^>]*>', '', text)\n",
    "    emoticons = re.findall('(?::|;|=)(?:-)?(?:\\)|\\(|D|P)', text.lower())\n",
    "    text = re.sub('[\\W]+', ' ', text.lower()) + ' '.join(emoticons).replace('-', '')\n",
    "    tokenized = [w for w in text.split() if w not in stop]\n",
    "    return tokenized\n",
    "\n",
    "def stream_docs(path):\n",
    "    with open(path, 'r', encoding='utf-8') as csv:\n",
    "        next(csv) # skip header\n",
    "        for line in csv:\n",
    "            text, label = line[:-3], int(line[-2])\n",
    "            yield text, label"
   ]
  },
  {
   "cell_type": "code",
   "execution_count": 3,
   "id": "691bd4e8",
   "metadata": {},
   "outputs": [
    {
     "data": {
      "text/plain": [
       "('\"In 1974, the teenager Martha Moxley (Maggie Grace) moves to the high-class area of Belle Haven, Greenwich, Connecticut. On the Mischief Night, eve of Halloween, she was murdered in the backyard of her house and her murder remained unsolved. Twenty-two years later, the writer Mark Fuhrman (Christopher Meloni), who is a former LA detective that has fallen in disgrace for perjury in O.J. Simpson trial and moved to Idaho, decides to investigate the case with his partner Stephen Weeks (Andrew Mitchell) with the purpose of writing a book. The locals squirm and do not welcome them, but with the support of the retired detective Steve Carroll (Robert Forster) that was in charge of the investigation in the 70\\'s, they discover the criminal and a net of power and money to cover the murder.<br /><br />\"\"Murder in Greenwich\"\" is a good TV movie, with the true story of a murder of a fifteen years old girl that was committed by a wealthy teenager whose mother was a Kennedy. The powerful and rich family used their influence to cover the murder for more than twenty years. However, a snoopy detective and convicted perjurer in disgrace was able to disclose how the hideous crime was committed. The screenplay shows the investigation of Mark and the last days of Martha in parallel, but there is a lack of the emotion in the dramatization. My vote is seven.<br /><br />Title (Brazil): Not Available\"',\n",
       " 1)"
      ]
     },
     "execution_count": 3,
     "metadata": {},
     "output_type": "execute_result"
    }
   ],
   "source": [
    "next(stream_docs(path='movie_data.csv'))"
   ]
  },
  {
   "cell_type": "code",
   "execution_count": 4,
   "id": "01dbcd2b",
   "metadata": {},
   "outputs": [],
   "source": [
    "def get_minibatch(doc_stream, size):\n",
    "    docs, y = [], []\n",
    "    try:\n",
    "        for _ in range(size):\n",
    "            text, label = next(doc_stream)\n",
    "            docs.append(text)\n",
    "            y.append(label)\n",
    "    except StopIteration:\n",
    "        return None, None\n",
    "    return docs, y"
   ]
  },
  {
   "cell_type": "code",
   "execution_count": 5,
   "id": "4bb6bffe",
   "metadata": {},
   "outputs": [],
   "source": [
    "from sklearn.feature_extraction.text import HashingVectorizer\n",
    "from sklearn.linear_model import SGDClassifier\n",
    "\n",
    "vect = HashingVectorizer(decode_error='ignore', \n",
    "                         n_features=2**21,\n",
    "                         preprocessor=None, \n",
    "                         tokenizer=tokenizer)\n",
    "\n",
    "clf = SGDClassifier(loss='log_loss', random_state=1, max_iter=1)\n",
    "doc_stream = stream_docs(path='movie_data.csv')"
   ]
  },
  {
   "cell_type": "code",
   "execution_count": 6,
   "id": "d08574ef",
   "metadata": {},
   "outputs": [
    {
     "name": "stderr",
     "output_type": "stream",
     "text": [
      "0% [##############################] 100% | ETA: 00:00:00\n",
      "Total time elapsed: 00:00:40\n"
     ]
    }
   ],
   "source": [
    "import pyprind\n",
    "pbar = pyprind.ProgBar(45)\n",
    "\n",
    "classes = np.array([0, 1])\n",
    "for _ in range(45):\n",
    "    X_train, y_train = get_minibatch(doc_stream, size=1000)\n",
    "    if not X_train:\n",
    "        break\n",
    "    X_train = vect.transform(X_train)\n",
    "    clf.partial_fit(X_train, y_train, classes=classes)\n",
    "    pbar.update()"
   ]
  },
  {
   "cell_type": "code",
   "execution_count": 7,
   "id": "9c015802",
   "metadata": {},
   "outputs": [
    {
     "name": "stdout",
     "output_type": "stream",
     "text": [
      "Accuracy: 0.868\n"
     ]
    }
   ],
   "source": [
    "X_test, y_test = get_minibatch(doc_stream, size=5000)\n",
    "X_test = vect.transform(X_test)\n",
    "print('Accuracy: %.3f' % clf.score(X_test, y_test))"
   ]
  },
  {
   "cell_type": "code",
   "execution_count": 8,
   "id": "9049e22d",
   "metadata": {},
   "outputs": [],
   "source": [
    "clf = clf.partial_fit(X_test, y_test)"
   ]
  },
  {
   "cell_type": "markdown",
   "id": "668b1990",
   "metadata": {},
   "source": [
    "# Serializing fitted scikit-learn estimators"
   ]
  },
  {
   "cell_type": "markdown",
   "id": "786f3d1f",
   "metadata": {},
   "source": [
    "After we trained the logistic regression model as shown above, we now save the classifier along woth the stop words, Porter Stemmer, and `HashingVectorizer` as serialized objects to our local disk so that we can use the fitted classifier in our web application later."
   ]
  },
  {
   "cell_type": "code",
   "execution_count": 9,
   "id": "dde98316",
   "metadata": {},
   "outputs": [],
   "source": [
    "import pickle\n",
    "import os\n",
    "\n",
    "dest = os.path.join('movieclassifier', 'pkl_objects')\n",
    "if not os.path.exists(dest):\n",
    "    os.makedirs(dest)\n",
    "\n",
    "pickle.dump(stop, open(os.path.join(dest, 'stopwords.pkl'), 'wb'), protocol=4)\n",
    "pickle.dump(clf, open(os.path.join(dest, 'classifier.pkl'), 'wb'), protocol=4)"
   ]
  },
  {
   "cell_type": "code",
   "execution_count": 10,
   "id": "292a6202",
   "metadata": {},
   "outputs": [
    {
     "name": "stdout",
     "output_type": "stream",
     "text": [
      "Overwriting movieclassifier/vectorizer.py\n"
     ]
    }
   ],
   "source": [
    "%%writefile movieclassifier/vectorizer.py\n",
    "from sklearn.feature_extraction.text import HashingVectorizer\n",
    "import re\n",
    "import os\n",
    "import pickle\n",
    "\n",
    "cur_dir = os.path.dirname(__file__)\n",
    "stop = pickle.load(open(os.path.join(cur_dir, 'pkl_objects', 'stopwords.pkl'), 'rb'))\n",
    "\n",
    "def tokenizer(text):\n",
    "    text = re.sub('<[^>]*>', '', text)\n",
    "    emoticons = re.findall('(?::|;|=)(?:-)?(?:\\)|\\(|D|P)',\n",
    "                           text.lower())\n",
    "    text = re.sub('[\\W]+', ' ', text.lower()) \\\n",
    "                   + ' '.join(emoticons).replace('-', '')\n",
    "    tokenized = [w for w in text.split() if w not in stop]\n",
    "    return tokenized\n",
    "\n",
    "vect = HashingVectorizer(decode_error='ignore',\n",
    "                         n_features=2**21,\n",
    "                         preprocessor=None,\n",
    "                         tokenizer=tokenizer)"
   ]
  },
  {
   "cell_type": "markdown",
   "id": "bbf80260",
   "metadata": {},
   "source": [
    "After executing the preceeding code cells, we can now restart the IPython notebook kernel to check if the objects were serialized correctly."
   ]
  },
  {
   "cell_type": "markdown",
   "id": "ddd7601f",
   "metadata": {},
   "source": [
    "First, change the current Python directory to `movieclassifer`:"
   ]
  },
  {
   "cell_type": "code",
   "execution_count": 11,
   "id": "7e8c85ed",
   "metadata": {},
   "outputs": [],
   "source": [
    "import os\n",
    "os.chdir('movieclassifier')"
   ]
  },
  {
   "cell_type": "code",
   "execution_count": 12,
   "id": "b26610b8",
   "metadata": {},
   "outputs": [],
   "source": [
    "import pickle\n",
    "import re\n",
    "import os\n",
    "from vectorizer import vect\n",
    "\n",
    "clf = pickle.load(open(os.path.join('pkl_objects', 'classifier.pkl'), 'rb'))"
   ]
  },
  {
   "cell_type": "markdown",
   "id": "3b96b5d9",
   "metadata": {},
   "source": [
    "After we have successfully loaded the `vectorizer` and unpickled the classifier, we\n",
    "can use these objects to preprocess document examples and make predictions about\n",
    "their sentiments:"
   ]
  },
  {
   "cell_type": "code",
   "execution_count": 13,
   "id": "d76743ac",
   "metadata": {},
   "outputs": [
    {
     "name": "stdout",
     "output_type": "stream",
     "text": [
      "Prediction: positive\n",
      "Probability: 95.55%\n"
     ]
    }
   ],
   "source": [
    "import numpy as np\n",
    "\n",
    "label = {0: 'negative', 1: 'positive'}\n",
    "\n",
    "example = [\"I love this movie. It's amazing\"]\n",
    "X = vect.transform(example)\n",
    "print('Prediction: %s\\nProbability: %.2f%%' % (label[clf.predict(X)[0]],\n",
    "                                               np.max(clf.predict_proba(X))*100))"
   ]
  },
  {
   "cell_type": "markdown",
   "id": "8443203a",
   "metadata": {},
   "source": [
    "# Setting up a SQLite database for data storage "
   ]
  },
  {
   "cell_type": "markdown",
   "id": "03319c3b",
   "metadata": {},
   "source": [
    "Note that we are still on the \"movieclassifier\" subdirectory:"
   ]
  },
  {
   "cell_type": "code",
   "execution_count": 14,
   "id": "27140950",
   "metadata": {},
   "outputs": [
    {
     "data": {
      "text/plain": [
       "'/home/sann-htet/Desktop/Python Machine Learning: Machine Learning and Deep Learning with Python, scikit-learn, and TensorFlow/Chapter 9/movieclassifier'"
      ]
     },
     "execution_count": 14,
     "metadata": {},
     "output_type": "execute_result"
    }
   ],
   "source": [
    "os.getcwd()"
   ]
  },
  {
   "cell_type": "code",
   "execution_count": 15,
   "id": "b92ecc51",
   "metadata": {},
   "outputs": [],
   "source": [
    "import sqlite3\n",
    "import os\n",
    "\n",
    "conn = sqlite3.connect('reviews.sqlite')\n",
    "c = conn.cursor()\n",
    "c.execute('DROP TABLE IF EXISTS review_db')\n",
    "c.execute('CREATE TABLE review_db(review TEXT, sentiment INTEGER, date TEXT)')\n",
    "\n",
    "example1 = 'I love this movie'\n",
    "c.execute(\"INSERT INTO review_db(review, sentiment, date) VALUES (?, ?, DATETIME('now'))\", (example1, 1))\n",
    "\n",
    "example2 = 'I disliked this movie'\n",
    "c.execute(\"INSERT INTO review_db(review, sentiment, date) VALUES (?, ?, DATETIME('now'))\", (example2, 0))\n",
    "conn.commit()\n",
    "conn.close()"
   ]
  },
  {
   "cell_type": "code",
   "execution_count": 16,
   "id": "76cbd5c8",
   "metadata": {},
   "outputs": [],
   "source": [
    "conn = sqlite3.connect('reviews.sqlite')\n",
    "c = conn.cursor()\n",
    "\n",
    "c.execute(\"SELECT * FROM review_db WHERE date BETWEEN '2023-01-01 00:00:00' AND DATETIME('now')\")\n",
    "results = c.fetchall()\n",
    "\n",
    "conn.close()"
   ]
  },
  {
   "cell_type": "code",
   "execution_count": 17,
   "id": "a8712bd4",
   "metadata": {},
   "outputs": [
    {
     "name": "stdout",
     "output_type": "stream",
     "text": [
      "[('I love this movie', 1, '2023-08-01 03:03:15'), ('I disliked this movie', 0, '2023-08-01 03:03:15')]\n"
     ]
    }
   ],
   "source": [
    "print(results)"
   ]
  },
  {
   "cell_type": "markdown",
   "id": "183f7b27",
   "metadata": {},
   "source": [
    "# Developing a web application with Flask"
   ]
  },
  {
   "cell_type": "markdown",
   "id": "20a438fd",
   "metadata": {},
   "source": [
    "## Our first Flask web application"
   ]
  },
  {
   "cell_type": "code",
   "execution_count": 18,
   "id": "4d10900f",
   "metadata": {},
   "outputs": [],
   "source": [
    "os.chdir('..')"
   ]
  },
  {
   "cell_type": "code",
   "execution_count": 19,
   "id": "4d108744",
   "metadata": {},
   "outputs": [
    {
     "data": {
      "text/plain": [
       "['1st_flask_app_1',\n",
       " 'movie_data.csv',\n",
       " '.ipynb_checkpoints',\n",
       " 'movieclassifier',\n",
       " '1st_flask_app_2',\n",
       " 'ch09-Embedding_a_Machine_Learning_Model_into_a_Web_Application.ipynb']"
      ]
     },
     "execution_count": 19,
     "metadata": {},
     "output_type": "execute_result"
    }
   ],
   "source": [
    "os.listdir()"
   ]
  },
  {
   "cell_type": "code",
   "execution_count": 20,
   "id": "d29eb675",
   "metadata": {},
   "outputs": [],
   "source": [
    "os.chdir('1st_flask_app_1/')"
   ]
  },
  {
   "cell_type": "code",
   "execution_count": 21,
   "id": "4b4ab14e",
   "metadata": {},
   "outputs": [
    {
     "data": {
      "text/plain": [
       "['templates', '.ipynb_checkpoints', 'app.py']"
      ]
     },
     "execution_count": 21,
     "metadata": {},
     "output_type": "execute_result"
    }
   ],
   "source": [
    "os.listdir()"
   ]
  },
  {
   "cell_type": "code",
   "execution_count": 22,
   "id": "e219383e",
   "metadata": {},
   "outputs": [
    {
     "name": "stdout",
     "output_type": "stream",
     "text": [
      "Overwriting app.py\n"
     ]
    }
   ],
   "source": [
    "%%writefile app.py\n",
    "from flask import Flask, render_template\n",
    "\n",
    "app = Flask(__name__)\n",
    "\n",
    "@app.route('/')\n",
    "def index():\n",
    "    return render_template('first_app.html')\n",
    "\n",
    "if __name__ == '__main__':\n",
    "    app.run()"
   ]
  },
  {
   "cell_type": "code",
   "execution_count": 23,
   "id": "1eb1d94d",
   "metadata": {},
   "outputs": [],
   "source": [
    "os.chdir('templates/')"
   ]
  },
  {
   "cell_type": "code",
   "execution_count": 24,
   "id": "1f3b3211",
   "metadata": {},
   "outputs": [
    {
     "name": "stdout",
     "output_type": "stream",
     "text": [
      "Overwriting first_app.html\n"
     ]
    }
   ],
   "source": [
    "%%writefile first_app.html\n",
    "<!doctype html>\n",
    "<html>\n",
    "    <head>\n",
    "        <title>First app</title>\n",
    "    </head>\n",
    "    <body>\n",
    "        <div>Hi, this is my first Flask web app!</div>\n",
    "    </body>\n",
    "</html>"
   ]
  },
  {
   "cell_type": "code",
   "execution_count": 25,
   "id": "408bff3c",
   "metadata": {},
   "outputs": [],
   "source": [
    "os.chdir('..')"
   ]
  },
  {
   "cell_type": "markdown",
   "id": "526755eb",
   "metadata": {},
   "source": [
    "Now, let's start our web application by executing the command from the\n",
    "terminal inside the `1st_flask_app_1` directory:"
   ]
  },
  {
   "cell_type": "code",
   "execution_count": 26,
   "id": "ec343887",
   "metadata": {},
   "outputs": [
    {
     "name": "stdout",
     "output_type": "stream",
     "text": [
      "/bin/bash: /home/sann-htet/anaconda3/envs/tensorflow_gpu/lib/libtinfo.so.6: no version information available (required by /bin/bash)\n",
      " * Serving Flask app 'app'\n",
      " * Debug mode: off\n",
      "\u001b[31m\u001b[1mWARNING: This is a development server. Do not use it in a production deployment. Use a production WSGI server instead.\u001b[0m\n",
      " * Running on http://127.0.0.1:5000\n",
      "\u001b[33mPress CTRL+C to quit\u001b[0m\n",
      "^C\n"
     ]
    }
   ],
   "source": [
    "!python app.py"
   ]
  },
  {
   "cell_type": "markdown",
   "id": "667cf789",
   "metadata": {},
   "source": [
    "## Form validation and rendering"
   ]
  },
  {
   "cell_type": "code",
   "execution_count": 27,
   "id": "aa4fe858",
   "metadata": {},
   "outputs": [
    {
     "data": {
      "text/plain": [
       "'/home/sann-htet/Desktop/Python Machine Learning: Machine Learning and Deep Learning with Python, scikit-learn, and TensorFlow/Chapter 9/1st_flask_app_1'"
      ]
     },
     "execution_count": 27,
     "metadata": {},
     "output_type": "execute_result"
    }
   ],
   "source": [
    "os.getcwd()"
   ]
  },
  {
   "cell_type": "code",
   "execution_count": 28,
   "id": "0832d69f",
   "metadata": {},
   "outputs": [],
   "source": [
    "os.chdir('../1st_flask_app_2/')"
   ]
  },
  {
   "cell_type": "code",
   "execution_count": 29,
   "id": "509019dd",
   "metadata": {},
   "outputs": [
    {
     "data": {
      "text/plain": [
       "['static', 'templates', '.ipynb_checkpoints', 'app.py']"
      ]
     },
     "execution_count": 29,
     "metadata": {},
     "output_type": "execute_result"
    }
   ],
   "source": [
    "os.listdir()"
   ]
  },
  {
   "cell_type": "code",
   "execution_count": 30,
   "id": "660788f8",
   "metadata": {},
   "outputs": [
    {
     "name": "stdout",
     "output_type": "stream",
     "text": [
      "Overwriting app.py\n"
     ]
    }
   ],
   "source": [
    "%%writefile app.py\n",
    "from flask import Flask, render_template, request\n",
    "from wtforms import Form, TextAreaField, validators\n",
    "\n",
    "app = Flask(__name__)\n",
    "\n",
    "class HelloForm(Form):\n",
    "    sayhello = TextAreaField('', [validators.DataRequired()])\n",
    "    \n",
    "@app.route('/')\n",
    "def index():\n",
    "    form = HelloForm(request.form)\n",
    "    return render_template('first_app.html', form=form)\n",
    "\n",
    "@app.route('/hello', methods=['POST'])\n",
    "def hello():\n",
    "    form = HelloForm(request.form)\n",
    "    if request.method=='POST' and form.validate():\n",
    "        name = request.form['sayhello']\n",
    "        return render_template('hello.html', name=name)\n",
    "    return render_template('first_app.html', form=form)\n",
    "\n",
    "if __name__ == '__main__':\n",
    "    app.run(debug=True)"
   ]
  },
  {
   "cell_type": "markdown",
   "id": "150e7e2e",
   "metadata": {},
   "source": [
    "## Implementing a macro using the Jinja2 templating engine"
   ]
  },
  {
   "cell_type": "code",
   "execution_count": 32,
   "id": "5e3fe9fa",
   "metadata": {},
   "outputs": [],
   "source": [
    "os.chdir('templates/')"
   ]
  },
  {
   "cell_type": "code",
   "execution_count": 35,
   "id": "dda4df0b",
   "metadata": {},
   "outputs": [
    {
     "name": "stdout",
     "output_type": "stream",
     "text": [
      "Writing _formhelpers.html\n"
     ]
    }
   ],
   "source": [
    "%%writefile _formhelpers.html\n",
    "{% macro render_field(field) %}\n",
    "    <dt>{{ field.label }}\n",
    "    <dd>{{ field(**kwargs)|safe }}\n",
    "    {% if field.errors %}\n",
    "        <ul class=errors>\n",
    "        {% for error in field.errors %}\n",
    "            <li>{{ error }}</li>\n",
    "        {% endfor %}\n",
    "        </ul>\n",
    "    {% endif %}\n",
    "    </dd>\n",
    "    </dt>\n",
    "{% endmacro %}"
   ]
  },
  {
   "cell_type": "markdown",
   "id": "cb04ad7e",
   "metadata": {},
   "source": [
    "## Adding style via CSS"
   ]
  },
  {
   "cell_type": "code",
   "execution_count": 36,
   "id": "238ca77e",
   "metadata": {},
   "outputs": [],
   "source": [
    "os.chdir('../static/')"
   ]
  },
  {
   "cell_type": "code",
   "execution_count": 38,
   "id": "4ddd596d",
   "metadata": {},
   "outputs": [
    {
     "name": "stdout",
     "output_type": "stream",
     "text": [
      "Writing style.css\n"
     ]
    }
   ],
   "source": [
    "%%writefile style.css\n",
    "body {\n",
    "    font-size: 2em;\n",
    "}"
   ]
  },
  {
   "cell_type": "markdown",
   "id": "7240a563",
   "metadata": {},
   "source": [
    "The following are the contents of the modified `first_app.html` file that will now\n",
    "render a text form where a user can enter a name:"
   ]
  },
  {
   "cell_type": "code",
   "execution_count": 39,
   "id": "3737c442",
   "metadata": {},
   "outputs": [],
   "source": [
    "os.chdir('../templates/')"
   ]
  },
  {
   "cell_type": "code",
   "execution_count": 40,
   "id": "7c2a7ee2",
   "metadata": {},
   "outputs": [
    {
     "name": "stdout",
     "output_type": "stream",
     "text": [
      "Writing first_app.html\n"
     ]
    }
   ],
   "source": [
    "%%writefile first_app.html\n",
    "<!doctype html>\n",
    "<html>\n",
    "    <head>\n",
    "        <title>First app</title>\n",
    "            <link rel=\"stylesheet\" href=\"{{url_for('static', filename='style.css')}}\">\n",
    "    </head>\n",
    "    <body>\n",
    "        {% from \"_formhelpers.html\" import render_field %}\n",
    "        <div>What's your name?</div>\n",
    "        <form method=post action=\"/hello\">\n",
    "            <dl>\n",
    "                {{ render_field(form.sayhello) }}\n",
    "            </dl>\n",
    "            <input type=submit value='Say Hello' name='submit_btn'>\n",
    "        </form>\n",
    "    </body>\n",
    "</html>"
   ]
  },
  {
   "cell_type": "markdown",
   "id": "b43617e9",
   "metadata": {},
   "source": [
    "## Creating the result page"
   ]
  },
  {
   "cell_type": "code",
   "execution_count": 41,
   "id": "fdbfc8a9",
   "metadata": {},
   "outputs": [
    {
     "name": "stdout",
     "output_type": "stream",
     "text": [
      "Writing hello.html\n"
     ]
    }
   ],
   "source": [
    "%%writefile hello.html\n",
    "<!doctype html>\n",
    "<html>\n",
    "    <head>\n",
    "        <title>First app</title>\n",
    "            <link rel=\"stylesheet\" href=\"{{ url_for('static', filename='style.css') }}\">\n",
    "    </head>\n",
    "    <body>\n",
    "        <div>Hello {{ name }}</div>\n",
    "    </body>\n",
    "</html>"
   ]
  },
  {
   "cell_type": "markdown",
   "id": "e0557e67",
   "metadata": {},
   "source": [
    "Having set up our modified Flask web application, we can run it locally by executing\n",
    "the following command from the application's main directory:"
   ]
  },
  {
   "cell_type": "code",
   "execution_count": 42,
   "id": "15604c87",
   "metadata": {},
   "outputs": [],
   "source": [
    "os.chdir('..')"
   ]
  },
  {
   "cell_type": "code",
   "execution_count": 45,
   "id": "963512c4",
   "metadata": {},
   "outputs": [
    {
     "name": "stdout",
     "output_type": "stream",
     "text": [
      "/bin/bash: /home/sann-htet/anaconda3/envs/tensorflow_gpu/lib/libtinfo.so.6: no version information available (required by /bin/bash)\n",
      " * Serving Flask app 'app'\n",
      " * Debug mode: on\n",
      "\u001b[31m\u001b[1mWARNING: This is a development server. Do not use it in a production deployment. Use a production WSGI server instead.\u001b[0m\n",
      " * Running on http://127.0.0.1:5000\n",
      "\u001b[33mPress CTRL+C to quit\u001b[0m\n",
      " * Restarting with stat\n",
      " * Debugger is active!\n",
      " * Debugger PIN: 223-440-534\n",
      "127.0.0.1 - - [01/Aug/2023 10:20:06] \"GET / HTTP/1.1\" 200 -\n",
      "127.0.0.1 - - [01/Aug/2023 10:20:06] \"GET /static/style.css HTTP/1.1\" 200 -\n",
      "127.0.0.1 - - [01/Aug/2023 10:20:06] \"\u001b[33mGET /favicon.ico HTTP/1.1\u001b[0m\" 404 -\n",
      "127.0.0.1 - - [01/Aug/2023 10:20:14] \"POST /hello HTTP/1.1\" 200 -\n",
      "127.0.0.1 - - [01/Aug/2023 10:20:14] \"\u001b[36mGET /static/style.css HTTP/1.1\u001b[0m\" 304 -\n",
      "^C\n"
     ]
    }
   ],
   "source": [
    "!python app.py"
   ]
  },
  {
   "cell_type": "markdown",
   "id": "142f39f4",
   "metadata": {},
   "source": [
    "# Turning the movie classifier into a web application"
   ]
  },
  {
   "cell_type": "markdown",
   "id": "2124b5e1",
   "metadata": {},
   "source": [
    "## Implementing the main application as app.py"
   ]
  },
  {
   "cell_type": "code",
   "execution_count": 46,
   "id": "61def10e",
   "metadata": {},
   "outputs": [
    {
     "data": {
      "text/plain": [
       "'/home/sann-htet/Desktop/Python Machine Learning: Machine Learning and Deep Learning with Python, scikit-learn, and TensorFlow/Chapter 9/1st_flask_app_2'"
      ]
     },
     "execution_count": 46,
     "metadata": {},
     "output_type": "execute_result"
    }
   ],
   "source": [
    "os.getcwd()"
   ]
  },
  {
   "cell_type": "code",
   "execution_count": 47,
   "id": "efc80978",
   "metadata": {},
   "outputs": [],
   "source": [
    "os.chdir('../movieclassifier/')"
   ]
  },
  {
   "cell_type": "code",
   "execution_count": 48,
   "id": "0fcec0ee",
   "metadata": {},
   "outputs": [
    {
     "data": {
      "text/plain": [
       "['__pycache__', 'reviews.sqlite', 'pkl_objects', 'vectorizer.py']"
      ]
     },
     "execution_count": 48,
     "metadata": {},
     "output_type": "execute_result"
    }
   ],
   "source": [
    "os.listdir()"
   ]
  },
  {
   "cell_type": "code",
   "execution_count": 49,
   "id": "d650c957",
   "metadata": {},
   "outputs": [
    {
     "name": "stdout",
     "output_type": "stream",
     "text": [
      "Writing app.py\n"
     ]
    }
   ],
   "source": [
    "%%writefile app.py\n",
    "from flask import Flask, render_template, request\n",
    "from wtforms import Form, TextAreaField, validators\n",
    "import pickle\n",
    "import sqlite3\n",
    "import os\n",
    "import numpy as np\n",
    "\n",
    "# import HashingVectorizer from local dir\n",
    "from vectorizer import vect\n",
    "\n",
    "app = Flask(__name__)\n",
    "\n",
    "######## Preparing the Classifier\n",
    "cur_dir = os.path.dirname(__file__)\n",
    "clf = pickle.load(open(os.path.join(cur_dir,\n",
    "                 'pkl_objects',\n",
    "                 'classifier.pkl'), 'rb'))\n",
    "db = os.path.join(cur_dir, 'reviews.sqlite')\n",
    "\n",
    "def classify(document):\n",
    "    label = {0: 'negative', 1: 'positive'}\n",
    "    X = vect.transform([document])\n",
    "    y = clf.predict(X)[0]\n",
    "    proba = np.max(clf.predict_proba(X))\n",
    "    return label[y], proba\n",
    "\n",
    "def train(document, y):\n",
    "    X = vect.transform([document])\n",
    "    clf.partial_fit(X, [y])\n",
    "\n",
    "def sqlite_entry(path, document, y):\n",
    "    conn = sqlite3.connect(path)\n",
    "    c = conn.cursor()\n",
    "    c.execute(\"INSERT INTO review_db (review, sentiment, date)\" \" VALUES (?, ?, DATETIME('now'))\", (document, y))\n",
    "    conn.commit()\n",
    "    conn.close()\n",
    "\n",
    "######## Flask\n",
    "class ReviewForm(Form):\n",
    "    moviereview = TextAreaField('',\n",
    "                                [validators.DataRequired(),\n",
    "                                 validators.length(min=15)])\n",
    "\n",
    "@app.route('/')\n",
    "def index():\n",
    "    form = ReviewForm(request.form)\n",
    "    return render_template('reviewform.html', form=form)\n",
    "\n",
    "@app.route('/results', methods=['POST'])\n",
    "def results():\n",
    "    form = ReviewForm(request.form)\n",
    "    if request.method == 'POST' and form.validate():\n",
    "        review = request.form['moviereview']\n",
    "        y, proba = classify(review)\n",
    "        return render_template('results.html',\n",
    "                                content=review,\n",
    "                                prediction=y,\n",
    "                                probability=round(proba*100, 2))\n",
    "    return render_template('reviewform.html', form=form)\n",
    "\n",
    "@app.route('/thanks', methods=['POST'])\n",
    "def feedback():\n",
    "    feedback = request.form['feedback_button']\n",
    "    review = request.form['review']\n",
    "    prediction = request.form['prediction']\n",
    "\n",
    "    inv_label = {'negative': 0, 'positive': 1}\n",
    "    y = inv_label[prediction]\n",
    "    if feedback == 'Incorrect':\n",
    "        y = int(not(y))\n",
    "    train(review, y)\n",
    "    sqlite_entry(db, review, y)\n",
    "    return render_template('thanks.html')\n",
    "\n",
    "if __name__ == '__main__':\n",
    "    app.run(debug=True)"
   ]
  },
  {
   "cell_type": "markdown",
   "id": "1badb9c0",
   "metadata": {},
   "source": [
    "## Setting up the review form"
   ]
  },
  {
   "cell_type": "code",
   "execution_count": 59,
   "id": "13f1e37c",
   "metadata": {},
   "outputs": [],
   "source": [
    "os.chdir('templates/')"
   ]
  },
  {
   "cell_type": "code",
   "execution_count": 51,
   "id": "8937870b",
   "metadata": {},
   "outputs": [
    {
     "name": "stdout",
     "output_type": "stream",
     "text": [
      "Writing reviewform.html\n"
     ]
    }
   ],
   "source": [
    "%%writefile reviewform.html\n",
    "<!doctype html>\n",
    "<html>\n",
    "    <head>\n",
    "        <title>Movie Classification</title>\n",
    "            <link rel=\"stylesheet\" href=\"{{ url_for('static', filename='style.css') }}\">\n",
    "    </head>\n",
    "    <body>\n",
    "\n",
    "        <h2>Please enter your movie review:</h2>\n",
    "\n",
    "        {% from \"_formhelpers.html\" import render_field %}\n",
    "\n",
    "        <form method=post action=\"/results\">\n",
    "            <dl>\n",
    "                {{ render_field(form.moviereview, cols='30', rows='10') }}\n",
    "            </dl>\n",
    "            <div>\n",
    "                <input type=submit value='Submit review' name='submit_btn'>\n",
    "            </div>\n",
    "        </form>\n",
    "\n",
    "    </body>\n",
    "</html>"
   ]
  },
  {
   "cell_type": "markdown",
   "id": "e3ae3dcf",
   "metadata": {},
   "source": [
    "## Creating a results page template"
   ]
  },
  {
   "cell_type": "code",
   "execution_count": 52,
   "id": "9c1d0d6c",
   "metadata": {},
   "outputs": [
    {
     "name": "stdout",
     "output_type": "stream",
     "text": [
      "Writing results.html\n"
     ]
    }
   ],
   "source": [
    "%%writefile results.html\n",
    "<!doctype html>\n",
    "<html>\n",
    "    <head>\n",
    "        <title>Movie Classification</title>\n",
    "            <link rel=\"stylesheet\" href=\"{{ url_for('static', filename='style.css') }}\">\n",
    "    </head>\n",
    "    <body>\n",
    "        <h3>Your movie review:</h3>\n",
    "            \n",
    "        <div>{{ content }}</div>\n",
    "\n",
    "        <h3>Prediction:</h3>\n",
    "        <div>This movie review is <strong>{{ prediction }}</strong>(probability: {{ probability }}%).</div>\n",
    "\n",
    "        <div id='button'>\n",
    "            <form action=\"/thanks\" method=\"post\">\n",
    "                <input type=submit value='Correct' name='feedback_button'>\n",
    "                <input type=submit value='Incorrect' name='feedback_button'>\n",
    "                <input type=hidden value='{{ prediction }}' name='prediction'>\n",
    "                <input type=hidden value='{{ content }}' name='review'>\n",
    "            </form>\n",
    "        </div>\n",
    "\n",
    "        <div id='button'>\n",
    "            <form action=\"/\">\n",
    "                <input type=submit value='Submit another review'>\n",
    "            </form>\n",
    "        </div>\n",
    "    </body>\n",
    "</html>"
   ]
  },
  {
   "cell_type": "code",
   "execution_count": 53,
   "id": "776ef8ab",
   "metadata": {},
   "outputs": [
    {
     "name": "stdout",
     "output_type": "stream",
     "text": [
      "Writing thanks.html\n"
     ]
    }
   ],
   "source": [
    "%%writefile thanks.html\n",
    "<!doctype html>\n",
    "<html>\n",
    "    <head>\n",
    "        <title>Movie Classification</title>\n",
    "            <link rel=\"stylesheet\" href=\"{{ url_for('static', filename='style.css') }}\">\n",
    "    </head>\n",
    "    <body>\n",
    "    \n",
    "        <h3>Thank you for your feedback!</h3>\n",
    "\n",
    "        <div id='button'>\n",
    "            <form action=\"/\">\n",
    "                <input type=submit value='Submit another review'>\n",
    "            </form>\n",
    "        </div>\n",
    "    </body>\n",
    "</html>"
   ]
  },
  {
   "cell_type": "code",
   "execution_count": 60,
   "id": "6c1be70c",
   "metadata": {},
   "outputs": [
    {
     "name": "stdout",
     "output_type": "stream",
     "text": [
      "Writing _formhelpers.html\n"
     ]
    }
   ],
   "source": [
    "%%writefile _formhelpers.html\n",
    "{% macro render_field(field) %}\n",
    "    <dt>{{ field.label }}\n",
    "    <dd>{{ field(**kwargs)|safe }}\n",
    "    {% if field.errors %}\n",
    "        <ul class=errors>\n",
    "        {% for error in field.errors %}\n",
    "            <li>{{ error }}</li>\n",
    "        {% endfor %}\n",
    "        </ul>\n",
    "    {% endif %}\n",
    "    </dd>\n",
    "    </dt>\n",
    "{% endmacro %}"
   ]
  },
  {
   "cell_type": "code",
   "execution_count": 54,
   "id": "7e94977a",
   "metadata": {},
   "outputs": [],
   "source": [
    "os.chdir('../static/')"
   ]
  },
  {
   "cell_type": "code",
   "execution_count": 55,
   "id": "3491ddb6",
   "metadata": {},
   "outputs": [
    {
     "name": "stdout",
     "output_type": "stream",
     "text": [
      "Writing style.css\n"
     ]
    }
   ],
   "source": [
    "%%writefile style.css\n",
    "body{\n",
    "    width:600px;\n",
    "}\n",
    "\n",
    ".button{\n",
    "    padding-top: 20px;\n",
    "}"
   ]
  },
  {
   "cell_type": "code",
   "execution_count": 61,
   "id": "137fa567",
   "metadata": {},
   "outputs": [],
   "source": [
    "os.chdir('..')"
   ]
  },
  {
   "cell_type": "code",
   "execution_count": 63,
   "id": "6ae4a0d5",
   "metadata": {},
   "outputs": [
    {
     "name": "stdout",
     "output_type": "stream",
     "text": [
      "/bin/bash: /home/sann-htet/anaconda3/envs/tensorflow_gpu/lib/libtinfo.so.6: no version information available (required by /bin/bash)\n",
      " * Serving Flask app 'app'\n",
      " * Debug mode: on\n",
      "\u001b[31m\u001b[1mWARNING: This is a development server. Do not use it in a production deployment. Use a production WSGI server instead.\u001b[0m\n",
      " * Running on http://127.0.0.1:5000\n",
      "\u001b[33mPress CTRL+C to quit\u001b[0m\n",
      " * Restarting with stat\n",
      " * Debugger is active!\n",
      " * Debugger PIN: 223-440-534\n",
      "127.0.0.1 - - [01/Aug/2023 18:21:11] \"GET / HTTP/1.1\" 200 -\n",
      "127.0.0.1 - - [01/Aug/2023 18:21:11] \"\u001b[36mGET /static/style.css HTTP/1.1\u001b[0m\" 304 -\n",
      "127.0.0.1 - - [01/Aug/2023 18:21:23] \"POST /results HTTP/1.1\" 200 -\n",
      "127.0.0.1 - - [01/Aug/2023 18:21:23] \"\u001b[36mGET /static/style.css HTTP/1.1\u001b[0m\" 304 -\n",
      "127.0.0.1 - - [01/Aug/2023 18:21:31] \"POST /thanks HTTP/1.1\" 200 -\n",
      "127.0.0.1 - - [01/Aug/2023 18:21:31] \"\u001b[36mGET /static/style.css HTTP/1.1\u001b[0m\" 304 -\n",
      "127.0.0.1 - - [01/Aug/2023 18:21:32] \"GET / HTTP/1.1\" 200 -\n",
      "127.0.0.1 - - [01/Aug/2023 18:21:32] \"\u001b[36mGET /static/style.css HTTP/1.1\u001b[0m\" 304 -\n",
      "127.0.0.1 - - [01/Aug/2023 18:21:44] \"POST /results HTTP/1.1\" 200 -\n",
      "127.0.0.1 - - [01/Aug/2023 18:21:44] \"\u001b[36mGET /static/style.css HTTP/1.1\u001b[0m\" 304 -\n",
      "127.0.0.1 - - [01/Aug/2023 18:21:47] \"POST /thanks HTTP/1.1\" 200 -\n",
      "127.0.0.1 - - [01/Aug/2023 18:21:47] \"\u001b[36mGET /static/style.css HTTP/1.1\u001b[0m\" 304 -\n",
      "127.0.0.1 - - [01/Aug/2023 18:21:48] \"GET / HTTP/1.1\" 200 -\n",
      "127.0.0.1 - - [01/Aug/2023 18:21:48] \"\u001b[36mGET /static/style.css HTTP/1.1\u001b[0m\" 304 -\n",
      "^C\n"
     ]
    }
   ],
   "source": [
    "!python app.py"
   ]
  },
  {
   "cell_type": "code",
   "execution_count": null,
   "id": "48005fc7",
   "metadata": {},
   "outputs": [],
   "source": []
  }
 ],
 "metadata": {
  "kernelspec": {
   "display_name": "Python 3 (ipykernel)",
   "language": "python",
   "name": "python3"
  },
  "language_info": {
   "codemirror_mode": {
    "name": "ipython",
    "version": 3
   },
   "file_extension": ".py",
   "mimetype": "text/x-python",
   "name": "python",
   "nbconvert_exporter": "python",
   "pygments_lexer": "ipython3",
   "version": "3.11.4"
  }
 },
 "nbformat": 4,
 "nbformat_minor": 5
}
