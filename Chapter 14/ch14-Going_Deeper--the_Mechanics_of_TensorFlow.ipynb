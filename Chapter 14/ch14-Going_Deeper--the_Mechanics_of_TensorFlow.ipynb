{
 "cells": [
  {
   "cell_type": "markdown",
   "id": "79a0b461",
   "metadata": {},
   "source": [
    "## The key features of TensorFlow"
   ]
  },
  {
   "cell_type": "markdown",
   "id": "9cdc7d56",
   "metadata": {},
   "source": [
    "### Creating a graph in TensorFlow v1.x"
   ]
  },
  {
   "cell_type": "code",
   "execution_count": 1,
   "id": "96aac459",
   "metadata": {},
   "outputs": [
    {
     "name": "stderr",
     "output_type": "stream",
     "text": [
      "2023-08-13 17:33:46.367392: I tensorflow/tsl/cuda/cudart_stub.cc:28] Could not find cuda drivers on your machine, GPU will not be used.\n",
      "2023-08-13 17:33:46.450450: I tensorflow/tsl/cuda/cudart_stub.cc:28] Could not find cuda drivers on your machine, GPU will not be used.\n",
      "2023-08-13 17:33:46.451916: I tensorflow/core/platform/cpu_feature_guard.cc:182] This TensorFlow binary is optimized to use available CPU instructions in performance-critical operations.\n",
      "To enable the following instructions: AVX2 FMA, in other operations, rebuild TensorFlow with the appropriate compiler flags.\n",
      "2023-08-13 17:33:47.952932: W tensorflow/compiler/tf2tensorrt/utils/py_utils.cc:38] TF-TRT Warning: Could not find TensorRT\n"
     ]
    }
   ],
   "source": [
    "import tensorflow as tf\n",
    "import numpy as np\n",
    "import pandas as pd\n",
    "import matplotlib.pyplot as plt\n",
    "%matplotlib inline"
   ]
  },
  {
   "cell_type": "code",
   "execution_count": 2,
   "id": "9e006351",
   "metadata": {},
   "outputs": [],
   "source": [
    "## TF v1.x style\n",
    "g = tf.Graph()\n",
    "\n",
    "with g.as_default():\n",
    "    a = tf.constant(1, name='a')\n",
    "    b = tf.constant(2, name='b')\n",
    "    c = tf.constant(3, name='c')\n",
    "    z = 2 * (a - b) + c"
   ]
  },
  {
   "cell_type": "code",
   "execution_count": 3,
   "id": "00b2b6b6",
   "metadata": {},
   "outputs": [
    {
     "name": "stdout",
     "output_type": "stream",
     "text": [
      "Result: z = 1\n"
     ]
    },
    {
     "name": "stderr",
     "output_type": "stream",
     "text": [
      "2023-08-13 17:33:50.302324: W tensorflow/core/common_runtime/gpu/gpu_device.cc:1960] Cannot dlopen some GPU libraries. Please make sure the missing libraries mentioned above are installed properly if you would like to use GPU. Follow the guide at https://www.tensorflow.org/install/gpu for how to download and setup the required libraries for your platform.\n",
      "Skipping registering GPU devices...\n",
      "2023-08-13 17:33:50.306772: I tensorflow/compiler/mlir/mlir_graph_optimization_pass.cc:375] MLIR V1 optimization pass is not enabled\n"
     ]
    }
   ],
   "source": [
    "## TF v1.x style\n",
    "with tf.compat.v1.Session(graph=g) as sess: # creating an environment\n",
    "    print('Result: z =', sess.run(z))"
   ]
  },
  {
   "cell_type": "markdown",
   "id": "b38b0818",
   "metadata": {},
   "source": [
    "### Migrating a graph to TensorFlow v2"
   ]
  },
  {
   "cell_type": "code",
   "execution_count": 4,
   "id": "1a808d72",
   "metadata": {},
   "outputs": [
    {
     "name": "stdout",
     "output_type": "stream",
     "text": [
      "Result: z = 1\n"
     ]
    }
   ],
   "source": [
    "## TF v2 style\n",
    "a = tf.constant(1, name='a')\n",
    "b = tf.constant(2, name='b')\n",
    "c = tf.constant(3, name='c')\n",
    "z = 2 * (a - b) + c\n",
    "tf.print('Result: z =', z)"
   ]
  },
  {
   "cell_type": "markdown",
   "id": "141a4f3a",
   "metadata": {},
   "source": [
    "### Loading input data into a model: TensorFlow v1.x style"
   ]
  },
  {
   "cell_type": "code",
   "execution_count": 5,
   "id": "9b33621d",
   "metadata": {},
   "outputs": [
    {
     "name": "stdout",
     "output_type": "stream",
     "text": [
      "Result: z = 1\n"
     ]
    }
   ],
   "source": [
    "## TF-v1.x style\n",
    "g = tf.Graph()\n",
    "\n",
    "with g.as_default():\n",
    "    a = tf.compat.v1.placeholder(shape=None,\n",
    "                                 dtype=tf.int32, name='tf_a')\n",
    "    b = tf.compat.v1.placeholder(shape=None,\n",
    "                                 dtype=tf.int32, name='tf_b')\n",
    "    c = tf.compat.v1.placeholder(shape=None,\n",
    "                                 dtype=tf.int32, name='tf_c')\n",
    "    z = 2 * (a - b) + c\n",
    "    \n",
    "with tf.compat.v1.Session(graph=g) as sess:\n",
    "    feed_dict = {a:1, b:2, c:3}\n",
    "    print('Result: z =', sess.run(z, feed_dict=feed_dict))"
   ]
  },
  {
   "cell_type": "markdown",
   "id": "3da31de5",
   "metadata": {},
   "source": [
    "### Loading input data into a model: TensorFlow v2 style"
   ]
  },
  {
   "cell_type": "code",
   "execution_count": 6,
   "id": "d6637598",
   "metadata": {},
   "outputs": [],
   "source": [
    "## TF-v2 style\n",
    "def compute_z(a, b, c):\n",
    "    r1 = tf.subtract(a, b)\n",
    "    r2 = tf.multiply(2, r1)\n",
    "    z = tf.add(r2, c)\n",
    "    return z"
   ]
  },
  {
   "cell_type": "code",
   "execution_count": 7,
   "id": "d30b8b5b",
   "metadata": {},
   "outputs": [
    {
     "name": "stdout",
     "output_type": "stream",
     "text": [
      "Scalar Inputs: 1\n",
      "Rank 1 Inputs: [1]\n",
      "Rank 2 Inputs: [[1]]\n"
     ]
    }
   ],
   "source": [
    "tf.print('Scalar Inputs:', compute_z(1, 2, 3))\n",
    "tf.print('Rank 1 Inputs:', compute_z([1], [2], [3]))\n",
    "tf.print('Rank 2 Inputs:', compute_z([[1]], [[2]], [[3]]))"
   ]
  },
  {
   "cell_type": "markdown",
   "id": "2adc023e",
   "metadata": {},
   "source": [
    "### Improving computational performance with function decorators"
   ]
  },
  {
   "cell_type": "code",
   "execution_count": 8,
   "id": "2b4c8e6f",
   "metadata": {},
   "outputs": [],
   "source": [
    "@tf.function\n",
    "def compute_z(a, b, c):\n",
    "    r1 = tf.subtract(a, b)\n",
    "    r2 = tf.multiply(2, r1)\n",
    "    z = tf.add(r2, c)\n",
    "    return z"
   ]
  },
  {
   "cell_type": "code",
   "execution_count": 9,
   "id": "8d2cb821",
   "metadata": {},
   "outputs": [
    {
     "name": "stdout",
     "output_type": "stream",
     "text": [
      "Scalar Inputs: 1\n",
      "Rank 1 Inputs: [1]\n",
      "Rank 2 Inputs: [[1]]\n"
     ]
    }
   ],
   "source": [
    "tf.print('Scalar Inputs:', compute_z(1, 2, 3))\n",
    "tf.print('Rank 1 Inputs:', compute_z([1], [2], [3]))\n",
    "tf.print('Rank 2 Inputs:', compute_z([[1]], [[2]], [[3]]))"
   ]
  },
  {
   "cell_type": "code",
   "execution_count": 10,
   "id": "7a626c4b",
   "metadata": {},
   "outputs": [],
   "source": [
    "@tf.function(input_signature=(tf.TensorSpec(shape=[None],\n",
    "                                            dtype=tf.int32),\n",
    "                              tf.TensorSpec(shape=[None],\n",
    "                                            dtype=tf.int32),\n",
    "                              tf.TensorSpec(shape=[None],\n",
    "                                            dtype=tf.int32)))\n",
    "def compute_z(a, b, c):\n",
    "    r1 = tf.subtract(a, b)\n",
    "    r2 = tf.multiply(2, r1)\n",
    "    z = tf.add(r2, c)\n",
    "    return z"
   ]
  },
  {
   "cell_type": "code",
   "execution_count": 11,
   "id": "be4d2f57",
   "metadata": {},
   "outputs": [
    {
     "name": "stdout",
     "output_type": "stream",
     "text": [
      "Rank 1 Inputs: [1]\n",
      "Rank 1 Inputs: [1 2]\n"
     ]
    }
   ],
   "source": [
    "tf.print('Rank 1 Inputs:', compute_z([1], [2], [3]))\n",
    "tf.print('Rank 1 Inputs:', compute_z([1, 2], [2, 4], [3, 6]))"
   ]
  },
  {
   "cell_type": "markdown",
   "id": "780dff8e",
   "metadata": {},
   "source": [
    "Calling this function using tensors with ranks other than 1 will result in\n",
    "an error since the rank will not match the specified input signature:\n",
    "\n",
    "```python\n",
    "## we expect this to result in an error\n",
    "tf.print('Rank 2 Inputs:', compute_z([[1], [2]], [[2], [4]], [[3], [6]]))\n",
    "\n",
    "\n",
    "## >> Error:\n",
    "#ValueError: Python inputs incompatible with input_signature: \n",
    "#inputs (([[1], [2]], [[2], [4]], [[3], [6]])), input_signature \n",
    "#((TensorSpec(shape=(None,), dtype=tf.int32, name=None), \n",
    "#  TensorSpec(shape=(None,), dtype=tf.int32, name=None), \n",
    "#  TensorSpec(shape=(None,), dtype=tf.int32, name=None)))\n",
    "```"
   ]
  },
  {
   "cell_type": "code",
   "execution_count": 12,
   "id": "6df85815",
   "metadata": {},
   "outputs": [
    {
     "data": {
      "text/plain": [
       "TensorSpec(shape=(None,), dtype=tf.int32, name=None)"
      ]
     },
     "execution_count": 12,
     "metadata": {},
     "output_type": "execute_result"
    }
   ],
   "source": [
    "tf.TensorSpec(shape=[None], dtype=tf.int32)"
   ]
  },
  {
   "cell_type": "markdown",
   "id": "675524d1",
   "metadata": {},
   "source": [
    "## TensorFlow Variable objects for storing and updating model parameters"
   ]
  },
  {
   "cell_type": "code",
   "execution_count": 13,
   "id": "96e94e32",
   "metadata": {},
   "outputs": [
    {
     "name": "stdout",
     "output_type": "stream",
     "text": [
      "<tf.Variable 'var_a:0' shape=() dtype=float32, numpy=3.14>\n"
     ]
    }
   ],
   "source": [
    "a = tf.Variable(initial_value=3.14, name='var_a')\n",
    "print(a)"
   ]
  },
  {
   "cell_type": "code",
   "execution_count": 15,
   "id": "cf5985ee",
   "metadata": {},
   "outputs": [
    {
     "name": "stdout",
     "output_type": "stream",
     "text": [
      "<tf.Variable 'var_b:0' shape=(3,) dtype=int32, numpy=array([1, 2, 3], dtype=int32)>\n"
     ]
    }
   ],
   "source": [
    "b = tf.Variable(initial_value=[1, 2, 3], name='var_b')\n",
    "print(b)"
   ]
  },
  {
   "cell_type": "code",
   "execution_count": 16,
   "id": "e6795373",
   "metadata": {},
   "outputs": [
    {
     "name": "stdout",
     "output_type": "stream",
     "text": [
      "<tf.Variable 'Variable:0' shape=(2,) dtype=bool, numpy=array([ True, False])>\n"
     ]
    }
   ],
   "source": [
    "c = tf.Variable(initial_value=[True, False], dtype=tf.bool)\n",
    "print(c)"
   ]
  },
  {
   "cell_type": "code",
   "execution_count": 17,
   "id": "a7e6adaf",
   "metadata": {},
   "outputs": [
    {
     "name": "stdout",
     "output_type": "stream",
     "text": [
      "<tf.Variable 'Variable:0' shape=(1,) dtype=string, numpy=array([b'abc'], dtype=object)>\n"
     ]
    }
   ],
   "source": [
    "d = tf.Variable(initial_value=['abc'], dtype=tf.string)\n",
    "print(d)"
   ]
  },
  {
   "cell_type": "code",
   "execution_count": 18,
   "id": "684afdf2",
   "metadata": {},
   "outputs": [
    {
     "name": "stdout",
     "output_type": "stream",
     "text": [
      "False\n"
     ]
    }
   ],
   "source": [
    "w = tf.Variable([1, 2, 3], trainable=False)\n",
    "print(w.trainable)"
   ]
  },
  {
   "cell_type": "code",
   "execution_count": 19,
   "id": "af542dc6",
   "metadata": {},
   "outputs": [
    {
     "name": "stdout",
     "output_type": "stream",
     "text": [
      "<tf.Variable 'UnreadVariable' shape=(3,) dtype=int32, numpy=array([3, 1, 4], dtype=int32)>\n"
     ]
    }
   ],
   "source": [
    "print(w.assign([3, 1, 4], read_value=True))"
   ]
  },
  {
   "cell_type": "code",
   "execution_count": 21,
   "id": "2d1805b4",
   "metadata": {},
   "outputs": [
    {
     "name": "stdout",
     "output_type": "stream",
     "text": [
      "tf.Tensor([ 7 -1  8], shape=(3,), dtype=int32)\n"
     ]
    }
   ],
   "source": [
    "w.assign_add([2, -1, 2], read_value=False)\n",
    "print(w.value())"
   ]
  },
  {
   "cell_type": "code",
   "execution_count": 22,
   "id": "c646bd1c",
   "metadata": {},
   "outputs": [
    {
     "name": "stdout",
     "output_type": "stream",
     "text": [
      "[-0.407967627 -0.439122617 0.192646936]\n"
     ]
    }
   ],
   "source": [
    "tf.random.set_seed(1)\n",
    "init = tf.keras.initializers.GlorotNormal()\n",
    "tf.print(init(shape=(3,)))"
   ]
  },
  {
   "cell_type": "code",
   "execution_count": 23,
   "id": "2a79b691",
   "metadata": {},
   "outputs": [
    {
     "name": "stdout",
     "output_type": "stream",
     "text": [
      "[[-0.446906149 -0.481034726 0.211034134]\n",
      " [-0.739619195 -0.185035869 0.158578008]]\n"
     ]
    },
    {
     "name": "stderr",
     "output_type": "stream",
     "text": [
      "/home/sann-htet/anaconda3/envs/tensorflow/lib/python3.11/site-packages/keras/src/initializers/initializers.py:120: UserWarning: The initializer GlorotNormal is unseeded and being called multiple times, which will return identical values each time (even if the initializer is unseeded). Please update your code to provide a seed to the initializer, or avoid using the same initializer instance more than once.\n",
      "  warnings.warn(\n"
     ]
    }
   ],
   "source": [
    "v = tf.Variable(init(shape=(2, 3)))\n",
    "tf.print(v)"
   ]
  },
  {
   "cell_type": "code",
   "execution_count": 24,
   "id": "1ae8bd1d",
   "metadata": {},
   "outputs": [],
   "source": [
    "class MyModule(tf.Module):\n",
    "    def __init__(self):\n",
    "        init = tf.keras.initializers.GlorotNormal()\n",
    "        self.w1 = tf.Variable(init(shape=(2, 3)), trainable=True)\n",
    "        self.w2 = tf.Variable(init(shape=(1, 2)), trainable=False)"
   ]
  },
  {
   "cell_type": "code",
   "execution_count": 25,
   "id": "d42c6e3f",
   "metadata": {},
   "outputs": [
    {
     "name": "stdout",
     "output_type": "stream",
     "text": [
      "All module variables: [TensorShape([2, 3]), TensorShape([1, 2])]\n"
     ]
    },
    {
     "name": "stderr",
     "output_type": "stream",
     "text": [
      "/home/sann-htet/anaconda3/envs/tensorflow/lib/python3.11/site-packages/keras/src/initializers/initializers.py:120: UserWarning: The initializer GlorotNormal is unseeded and being called multiple times, which will return identical values each time (even if the initializer is unseeded). Please update your code to provide a seed to the initializer, or avoid using the same initializer instance more than once.\n",
      "  warnings.warn(\n"
     ]
    }
   ],
   "source": [
    "m = MyModule()\n",
    "print('All module variables:', [v.shape for v in m.variables])"
   ]
  },
  {
   "cell_type": "code",
   "execution_count": 26,
   "id": "835502b6",
   "metadata": {},
   "outputs": [
    {
     "name": "stdout",
     "output_type": "stream",
     "text": [
      "Trainable variable: [TensorShape([2, 3])]\n"
     ]
    }
   ],
   "source": [
    "print('Trainable variable:', [v.shape for v in m.trainable_variables])"
   ]
  },
  {
   "cell_type": "markdown",
   "id": "dd36b795",
   "metadata": {},
   "source": [
    "#### Variables with tf.function"
   ]
  },
  {
   "cell_type": "markdown",
   "id": "578cc5e3",
   "metadata": {},
   "source": [
    "```python\n",
    "\n",
    "## this will produce an error\n",
    "## ==> you cannot create a varibale inside a\n",
    "##     decorated function\n",
    "\n",
    "@tf.function\n",
    "def f(x):\n",
    "    w = tf.Variable([1, 2, 3])\n",
    "\n",
    "f([1])\n",
    "\n",
    "## ==> results in error\n",
    "## ValueError: tf.function-decorated function tried to create variables on non-first call.\n",
    "\n",
    "```"
   ]
  },
  {
   "cell_type": "code",
   "execution_count": 31,
   "id": "049b625d",
   "metadata": {},
   "outputs": [],
   "source": [
    "w = tf.Variable(tf.random.uniform((3, 3)))\n",
    "@tf.function\n",
    "def compute_z(x):\n",
    "    return tf.matmul(w, x)"
   ]
  },
  {
   "cell_type": "code",
   "execution_count": 32,
   "id": "40015c2c",
   "metadata": {},
   "outputs": [
    {
     "name": "stdout",
     "output_type": "stream",
     "text": [
      "[[3.64191628]\n",
      " [1.69833195]\n",
      " [3.06276083]]\n"
     ]
    }
   ],
   "source": [
    "x = tf.constant([[1], [2], [3]], dtype=tf.float32)\n",
    "tf.print(compute_z(x))"
   ]
  },
  {
   "cell_type": "markdown",
   "id": "a7f4999f",
   "metadata": {},
   "source": [
    "## Computing gradients via automatic differentiation and GradientTape"
   ]
  },
  {
   "cell_type": "markdown",
   "id": "904abd2b",
   "metadata": {},
   "source": [
    "### Computing the gradients of the loss with respect to trainable variables"
   ]
  },
  {
   "cell_type": "code",
   "execution_count": 33,
   "id": "1b5800f1",
   "metadata": {},
   "outputs": [
    {
     "name": "stdout",
     "output_type": "stream",
     "text": [
      "True True\n"
     ]
    }
   ],
   "source": [
    "w = tf.Variable(1.0)\n",
    "b = tf.Variable(0.5)\n",
    "print(w.trainable, b.trainable)"
   ]
  },
  {
   "cell_type": "code",
   "execution_count": 35,
   "id": "f0bc31fa",
   "metadata": {},
   "outputs": [
    {
     "name": "stdout",
     "output_type": "stream",
     "text": [
      "dL/dw: -0.559999764\n"
     ]
    }
   ],
   "source": [
    "x = tf.convert_to_tensor([1.4])\n",
    "y = tf.convert_to_tensor([2.1])\n",
    "\n",
    "with tf.GradientTape() as tape:\n",
    "    z = tf.add(tf.multiply(w, x), b)\n",
    "    loss = tf.reduce_sum(tf.square(y - z))\n",
    "    \n",
    "dloss_dw = tape.gradient(loss, w)\n",
    "tf.print('dL/dw:', dloss_dw)"
   ]
  },
  {
   "cell_type": "code",
   "execution_count": 36,
   "id": "0138dac6",
   "metadata": {},
   "outputs": [
    {
     "name": "stdout",
     "output_type": "stream",
     "text": [
      "[-0.559999764]\n"
     ]
    }
   ],
   "source": [
    "# verifying the computed gradient\n",
    "tf.print(2*x*(w*x+b-y))"
   ]
  },
  {
   "cell_type": "markdown",
   "id": "8fb9fa88",
   "metadata": {},
   "source": [
    "### Computing gradients with respect to non-trainable tensors\n",
    "\n",
    " Monitoring the non-trainable tensors via `tape.watch()`"
   ]
  },
  {
   "cell_type": "code",
   "execution_count": 38,
   "id": "018c1a7a",
   "metadata": {},
   "outputs": [
    {
     "name": "stdout",
     "output_type": "stream",
     "text": [
      "dL/dx: [-0.399999857]\n"
     ]
    }
   ],
   "source": [
    "with tf.GradientTape() as tape:\n",
    "    tape.watch(x)\n",
    "    z = tf.add(tf.multiply(w, x), b)\n",
    "    loss = tf.reduce_sum(tf.square(y - z))\n",
    "    \n",
    "dloss_dx = tape.gradient(loss, x)\n",
    "tf.print('dL/dx:', dloss_dx)"
   ]
  },
  {
   "cell_type": "markdown",
   "id": "127ba454",
   "metadata": {},
   "source": [
    "### Keeping resources for multiple gradient computations \n",
    "\n",
    "via `persistent=True`"
   ]
  },
  {
   "cell_type": "code",
   "execution_count": 39,
   "id": "dcba2f0f",
   "metadata": {},
   "outputs": [],
   "source": [
    "with tf.GradientTape(persistent=True) as tape:\n",
    "    z = tf.add(tf.multiply(w, x), b)\n",
    "    loss = tf.reduce_sum(tf.square(y - z))\n",
    "    \n",
    "dloss_dw = tape.gradient(loss, w)\n",
    "dloss_db = tape.gradient(loss, b)"
   ]
  },
  {
   "cell_type": "code",
   "execution_count": 41,
   "id": "b6481efd",
   "metadata": {},
   "outputs": [
    {
     "name": "stdout",
     "output_type": "stream",
     "text": [
      "dL/dw: -0.559999764\n",
      "dL/db: -0.399999857\n"
     ]
    }
   ],
   "source": [
    "tf.print('dL/dw:', dloss_dw)\n",
    "tf.print('dL/db:', dloss_db)"
   ]
  },
  {
   "cell_type": "markdown",
   "id": "f49b163a",
   "metadata": {},
   "source": [
    "#### Updating variables: `optimizer.apply_gradients()`"
   ]
  },
  {
   "cell_type": "code",
   "execution_count": 45,
   "id": "3a527139",
   "metadata": {},
   "outputs": [
    {
     "data": {
      "text/plain": [
       "<tf.Variable 'UnreadVariable' shape=() dtype=int64, numpy=1>"
      ]
     },
     "execution_count": 45,
     "metadata": {},
     "output_type": "execute_result"
    }
   ],
   "source": [
    "optimizer = tf.keras.optimizers.SGD()\n",
    "optimizer.apply_gradients(zip([dloss_dw, dloss_db], [w, b]))"
   ]
  },
  {
   "cell_type": "code",
   "execution_count": 46,
   "id": "cabcceca",
   "metadata": {},
   "outputs": [
    {
     "name": "stdout",
     "output_type": "stream",
     "text": [
      "Updated w: 1.0056\n",
      "Updated bias: 0.504\n"
     ]
    }
   ],
   "source": [
    "tf.print('Updated w:', w)\n",
    "tf.print('Updated bias:', b)"
   ]
  },
  {
   "cell_type": "markdown",
   "id": "5c1cfe27",
   "metadata": {},
   "source": [
    "## Simplifying implementations of common architectures via the Keras API"
   ]
  },
  {
   "cell_type": "code",
   "execution_count": 47,
   "id": "9bded0b4",
   "metadata": {},
   "outputs": [],
   "source": [
    "model = tf.keras.Sequential()\n",
    "model.add(tf.keras.layers.Dense(units=16, activation='relu'))\n",
    "model.add(tf.keras.layers.Dense(units=32, activation='relu'))"
   ]
  },
  {
   "cell_type": "code",
   "execution_count": 49,
   "id": "b914f007",
   "metadata": {},
   "outputs": [
    {
     "name": "stdout",
     "output_type": "stream",
     "text": [
      "Model: \"sequential\"\n",
      "_________________________________________________________________\n",
      " Layer (type)                Output Shape              Param #   \n",
      "=================================================================\n",
      " dense (Dense)               (None, 16)                80        \n",
      "                                                                 \n",
      " dense_1 (Dense)             (None, 32)                544       \n",
      "                                                                 \n",
      "=================================================================\n",
      "Total params: 624 (2.44 KB)\n",
      "Trainable params: 624 (2.44 KB)\n",
      "Non-trainable params: 0 (0.00 Byte)\n",
      "_________________________________________________________________\n"
     ]
    }
   ],
   "source": [
    "## late variable creation\n",
    "model.build(input_shape=(None, 4))\n",
    "model.summary()"
   ]
  },
  {
   "cell_type": "code",
   "execution_count": 50,
   "id": "51ed95d3",
   "metadata": {},
   "outputs": [
    {
     "name": "stdout",
     "output_type": "stream",
     "text": [
      "dense/kernel:0       True (4, 16)\n",
      "dense/bias:0         True (16,)\n",
      "dense_1/kernel:0     True (16, 32)\n",
      "dense_1/bias:0       True (32,)\n"
     ]
    }
   ],
   "source": [
    "## printing variables of the model\n",
    "for v in model.variables:\n",
    "    print('{:20s}'.format(v.name), v.trainable, v.shape)"
   ]
  },
  {
   "cell_type": "markdown",
   "id": "b719cb99",
   "metadata": {},
   "source": [
    "#### Configuring layers\n",
    "\n",
    " * Keras Initializers `tf.keras.initializers`: https://www.tensorflow.org/versions/r2.0/api_docs/python/tf/keras/initializers  \n",
    " * Keras Regularizers `tf.keras.regularizers`: https://www.tensorflow.org/versions/r2.0/api_docs/python/tf/keras/regularizers  \n",
    " * Activations `tf.keras.activations`: https://www.tensorflow.org/versions/r2.0/api_docs/python/tf/keras/activations  "
   ]
  },
  {
   "cell_type": "code",
   "execution_count": 53,
   "id": "7024465f",
   "metadata": {},
   "outputs": [],
   "source": [
    "model = tf.keras.Sequential()\n",
    "model.add(tf.keras.layers.Dense(units=16,\n",
    "                                activation=tf.keras.activations.relu,\n",
    "                                kernel_initializer=tf.keras.initializers.glorot_uniform(),\n",
    "                                bias_initializer=tf.keras.initializers.Constant(2.0)))\n",
    "model.add(tf.keras.layers.Dense(units=32,\n",
    "                                activation=tf.keras.activations.sigmoid,\n",
    "                                kernel_regularizer=tf.keras.regularizers.l1))"
   ]
  },
  {
   "cell_type": "code",
   "execution_count": 54,
   "id": "20dba627",
   "metadata": {},
   "outputs": [
    {
     "name": "stdout",
     "output_type": "stream",
     "text": [
      "Model: \"sequential_1\"\n",
      "_________________________________________________________________\n",
      " Layer (type)                Output Shape              Param #   \n",
      "=================================================================\n",
      " dense_2 (Dense)             (None, 16)                80        \n",
      "                                                                 \n",
      " dense_3 (Dense)             (None, 32)                544       \n",
      "                                                                 \n",
      "=================================================================\n",
      "Total params: 624 (2.44 KB)\n",
      "Trainable params: 624 (2.44 KB)\n",
      "Non-trainable params: 0 (0.00 Byte)\n",
      "_________________________________________________________________\n"
     ]
    }
   ],
   "source": [
    "model.build(input_shape=(None, 4))\n",
    "model.summary()"
   ]
  },
  {
   "cell_type": "markdown",
   "id": "a0f778de",
   "metadata": {},
   "source": [
    "#### Compiling a model\n",
    "\n",
    " * Keras Optimizers `tf.keras.optimizers`:  https://www.tensorflow.org/versions/r2.0/api_docs/python/tf/keras/optimizers\n",
    " * Keras Loss Functins `tf.keras.losses`: https://www.tensorflow.org/versions/r2.0/api_docs/python/tf/keras/losses\n",
    " * Keras Metrics `tf.keras.metrics`: https://www.tensorflow.org/versions/r2.0/api_docs/python/tf/keras/metrics"
   ]
  },
  {
   "cell_type": "code",
   "execution_count": 55,
   "id": "366e68a7",
   "metadata": {},
   "outputs": [],
   "source": [
    "model.compile(\n",
    "    optimizer=tf.keras.optimizers.SGD(learning_rate=0.001),\n",
    "    loss=tf.keras.losses.BinaryCrossentropy(),\n",
    "    metrics=[tf.keras.metrics.Accuracy(), \n",
    "             tf.keras.metrics.Precision(),\n",
    "             tf.keras.metrics.Recall(),])"
   ]
  },
  {
   "cell_type": "markdown",
   "id": "adc98c73",
   "metadata": {},
   "source": [
    "## Solving an XOR classification problem"
   ]
  },
  {
   "cell_type": "code",
   "execution_count": null,
   "id": "1e4cbe45",
   "metadata": {},
   "outputs": [],
   "source": []
  }
 ],
 "metadata": {
  "kernelspec": {
   "display_name": "Python 3 (ipykernel)",
   "language": "python",
   "name": "python3"
  },
  "language_info": {
   "codemirror_mode": {
    "name": "ipython",
    "version": 3
   },
   "file_extension": ".py",
   "mimetype": "text/x-python",
   "name": "python",
   "nbconvert_exporter": "python",
   "pygments_lexer": "ipython3",
   "version": "3.11.4"
  }
 },
 "nbformat": 4,
 "nbformat_minor": 5
}
