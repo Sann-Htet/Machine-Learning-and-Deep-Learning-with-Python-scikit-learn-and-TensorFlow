{
 "cells": [
  {
   "cell_type": "markdown",
   "id": "ee9833c2",
   "metadata": {},
   "source": [
    "## The key features of TensorFlow"
   ]
  },
  {
   "cell_type": "markdown",
   "id": "8450ba07",
   "metadata": {},
   "source": [
    "### Creating a graph in TensorFlow v1.x"
   ]
  },
  {
   "cell_type": "code",
   "execution_count": 5,
   "id": "22349146",
   "metadata": {},
   "outputs": [],
   "source": [
    "import tensorflow as tf\n",
    "import numpy as np\n",
    "import pandas as pd\n",
    "import matplotlib.pyplot as plt\n",
    "%matplotlib inline"
   ]
  },
  {
   "cell_type": "code",
   "execution_count": 9,
   "id": "3a43137f",
   "metadata": {},
   "outputs": [],
   "source": [
    "## TF v1.x style\n",
    "g = tf.Graph()\n",
    "\n",
    "with g.as_default():\n",
    "    a = tf.constant(1, name='a')\n",
    "    b = tf.constant(2, name='b')\n",
    "    c = tf.constant(3, name='c')\n",
    "    z = 2 * (a - b) + c"
   ]
  },
  {
   "cell_type": "code",
   "execution_count": 10,
   "id": "418a964a",
   "metadata": {},
   "outputs": [
    {
     "name": "stdout",
     "output_type": "stream",
     "text": [
      "Result: z = 1\n"
     ]
    }
   ],
   "source": [
    "## TF v1.x style\n",
    "with tf.compat.v1.Session(graph=g) as sess: # creating an environment\n",
    "    print('Result: z =', sess.run(z))"
   ]
  },
  {
   "cell_type": "markdown",
   "id": "957d3653",
   "metadata": {},
   "source": [
    "### Migrating a graph to TensorFlow v2"
   ]
  },
  {
   "cell_type": "code",
   "execution_count": 11,
   "id": "a7aa0b2a",
   "metadata": {},
   "outputs": [
    {
     "name": "stdout",
     "output_type": "stream",
     "text": [
      "Result: z = 1\n"
     ]
    }
   ],
   "source": [
    "## TF v2 style\n",
    "a = tf.constant(1, name='a')\n",
    "b = tf.constant(2, name='b')\n",
    "c = tf.constant(3, name='c')\n",
    "z = 2 * (a - b) + c\n",
    "tf.print('Result: z =', z)"
   ]
  },
  {
   "cell_type": "markdown",
   "id": "95805fc9",
   "metadata": {},
   "source": [
    "### Loading input data into a model: TensorFlow v1.x style"
   ]
  },
  {
   "cell_type": "code",
   "execution_count": 13,
   "id": "d3fa5593",
   "metadata": {},
   "outputs": [
    {
     "name": "stdout",
     "output_type": "stream",
     "text": [
      "Result: z = 1\n"
     ]
    }
   ],
   "source": [
    "## TF-v1.x style\n",
    "g = tf.Graph()\n",
    "\n",
    "with g.as_default():\n",
    "    a = tf.compat.v1.placeholder(shape=None,\n",
    "                                 dtype=tf.int32, name='tf_a')\n",
    "    b = tf.compat.v1.placeholder(shape=None,\n",
    "                                 dtype=tf.int32, name='tf_b')\n",
    "    c = tf.compat.v1.placeholder(shape=None,\n",
    "                                 dtype=tf.int32, name='tf_c')\n",
    "    z = 2 * (a - b) + c\n",
    "    \n",
    "with tf.compat.v1.Session(graph=g) as sess:\n",
    "    feed_dict = {a:1, b:2, c:3}\n",
    "    print('Result: z =', sess.run(z, feed_dict=feed_dict))"
   ]
  },
  {
   "cell_type": "markdown",
   "id": "a148cc48",
   "metadata": {},
   "source": [
    "### Loading input data into a model: TensorFlow v2 style"
   ]
  },
  {
   "cell_type": "code",
   "execution_count": 14,
   "id": "edd9230b",
   "metadata": {},
   "outputs": [],
   "source": [
    "## TF-v2 style\n",
    "def compute_z(a, b, c):\n",
    "    r1 = tf.subtract(a, b)\n",
    "    r2 = tf.multiply(2, r1)\n",
    "    z = tf.add(r2, c)\n",
    "    return z"
   ]
  },
  {
   "cell_type": "code",
   "execution_count": 15,
   "id": "deca8be7",
   "metadata": {},
   "outputs": [
    {
     "name": "stdout",
     "output_type": "stream",
     "text": [
      "Scalar Inputs: 1\n",
      "Rank 1 Inputs: [1]\n",
      "Rank 2 Inputs: [[1]]\n"
     ]
    }
   ],
   "source": [
    "tf.print('Scalar Inputs:', compute_z(1, 2, 3))\n",
    "tf.print('Rank 1 Inputs:', compute_z([1], [2], [3]))\n",
    "tf.print('Rank 2 Inputs:', compute_z([[1]], [[2]], [[3]]))"
   ]
  },
  {
   "cell_type": "markdown",
   "id": "a835e936",
   "metadata": {},
   "source": [
    "### Improving computational performance with function decorators"
   ]
  },
  {
   "cell_type": "code",
   "execution_count": 16,
   "id": "3b880575",
   "metadata": {},
   "outputs": [],
   "source": [
    "@tf.function\n",
    "def compute_z(a, b, c):\n",
    "    r1 = tf.subtract(a, b)\n",
    "    r2 = tf.multiply(2, r1)\n",
    "    z = tf.add(r2, c)\n",
    "    return z"
   ]
  },
  {
   "cell_type": "code",
   "execution_count": 17,
   "id": "5b8b0957",
   "metadata": {},
   "outputs": [
    {
     "name": "stdout",
     "output_type": "stream",
     "text": [
      "Scalar Inputs: 1\n",
      "Rank 1 Inputs: [1]\n",
      "Rank 2 Inputs: [[1]]\n"
     ]
    }
   ],
   "source": [
    "tf.print('Scalar Inputs:', compute_z(1, 2, 3))\n",
    "tf.print('Rank 1 Inputs:', compute_z([1], [2], [3]))\n",
    "tf.print('Rank 2 Inputs:', compute_z([[1]], [[2]], [[3]]))"
   ]
  },
  {
   "cell_type": "code",
   "execution_count": 18,
   "id": "dbc4c415",
   "metadata": {},
   "outputs": [],
   "source": [
    "@tf.function(input_signature=(tf.TensorSpec(shape=[None],\n",
    "                                            dtype=tf.int32),\n",
    "                              tf.TensorSpec(shape=[None],\n",
    "                                            dtype=tf.int32),\n",
    "                              tf.TensorSpec(shape=[None],\n",
    "                                            dtype=tf.int32)))\n",
    "def compute_z(a, b, c):\n",
    "    r1 = tf.subtract(a, b)\n",
    "    r2 = tf.multiply(2, r1)\n",
    "    z = tf.add(r2, c)\n",
    "    return z"
   ]
  },
  {
   "cell_type": "code",
   "execution_count": 19,
   "id": "e8e50fd5",
   "metadata": {},
   "outputs": [
    {
     "name": "stdout",
     "output_type": "stream",
     "text": [
      "Rank 1 Inputs: [1]\n",
      "Rank 1 Inputs: [1 2]\n"
     ]
    }
   ],
   "source": [
    "tf.print('Rank 1 Inputs:', compute_z([1], [2], [3]))\n",
    "tf.print('Rank 1 Inputs:', compute_z([1, 2], [2, 4], [3, 6]))"
   ]
  },
  {
   "cell_type": "markdown",
   "id": "bbd0d251",
   "metadata": {},
   "source": [
    "Calling this function using tensors with ranks other than 1 will result in\n",
    "an error since the rank will not match the specified input signature:\n",
    "\n",
    "```python\n",
    "## we expect this to result in an error\n",
    "tf.print('Rank 2 Inputs:', compute_z([[1], [2]], [[2], [4]], [[3], [6]]))\n",
    "\n",
    "\n",
    "## >> Error:\n",
    "#ValueError: Python inputs incompatible with input_signature: \n",
    "#inputs (([[1], [2]], [[2], [4]], [[3], [6]])), input_signature \n",
    "#((TensorSpec(shape=(None,), dtype=tf.int32, name=None), \n",
    "#  TensorSpec(shape=(None,), dtype=tf.int32, name=None), \n",
    "#  TensorSpec(shape=(None,), dtype=tf.int32, name=None)))\n",
    "```"
   ]
  },
  {
   "cell_type": "code",
   "execution_count": 21,
   "id": "ac7e175d",
   "metadata": {},
   "outputs": [
    {
     "data": {
      "text/plain": [
       "TensorSpec(shape=(None,), dtype=tf.int32, name=None)"
      ]
     },
     "execution_count": 21,
     "metadata": {},
     "output_type": "execute_result"
    }
   ],
   "source": [
    "tf.TensorSpec(shape=[None], dtype=tf.int32)"
   ]
  },
  {
   "cell_type": "markdown",
   "id": "f0e535c6",
   "metadata": {},
   "source": [
    "## TensorFlow Variable objects for storing and updating model parameters"
   ]
  },
  {
   "cell_type": "code",
   "execution_count": null,
   "id": "91b329c8",
   "metadata": {},
   "outputs": [],
   "source": []
  }
 ],
 "metadata": {
  "kernelspec": {
   "display_name": "Python 3 (ipykernel)",
   "language": "python",
   "name": "python3"
  },
  "language_info": {
   "codemirror_mode": {
    "name": "ipython",
    "version": 3
   },
   "file_extension": ".py",
   "mimetype": "text/x-python",
   "name": "python",
   "nbconvert_exporter": "python",
   "pygments_lexer": "ipython3",
   "version": "3.11.4"
  }
 },
 "nbformat": 4,
 "nbformat_minor": 5
}
