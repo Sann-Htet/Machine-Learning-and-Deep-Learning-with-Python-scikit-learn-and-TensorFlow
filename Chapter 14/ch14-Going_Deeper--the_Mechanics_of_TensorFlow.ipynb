{
 "cells": [
  {
   "cell_type": "markdown",
   "id": "79a0b461",
   "metadata": {},
   "source": [
    "## The key features of TensorFlow"
   ]
  },
  {
   "cell_type": "markdown",
   "id": "9cdc7d56",
   "metadata": {},
   "source": [
    "### Creating a graph in TensorFlow v1.x"
   ]
  },
  {
   "cell_type": "code",
   "execution_count": 1,
   "id": "96aac459",
   "metadata": {},
   "outputs": [
    {
     "name": "stderr",
     "output_type": "stream",
     "text": [
      "2023-08-13 17:33:46.367392: I tensorflow/tsl/cuda/cudart_stub.cc:28] Could not find cuda drivers on your machine, GPU will not be used.\n",
      "2023-08-13 17:33:46.450450: I tensorflow/tsl/cuda/cudart_stub.cc:28] Could not find cuda drivers on your machine, GPU will not be used.\n",
      "2023-08-13 17:33:46.451916: I tensorflow/core/platform/cpu_feature_guard.cc:182] This TensorFlow binary is optimized to use available CPU instructions in performance-critical operations.\n",
      "To enable the following instructions: AVX2 FMA, in other operations, rebuild TensorFlow with the appropriate compiler flags.\n",
      "2023-08-13 17:33:47.952932: W tensorflow/compiler/tf2tensorrt/utils/py_utils.cc:38] TF-TRT Warning: Could not find TensorRT\n"
     ]
    }
   ],
   "source": [
    "import tensorflow as tf\n",
    "import numpy as np\n",
    "import pandas as pd\n",
    "import matplotlib.pyplot as plt\n",
    "%matplotlib inline"
   ]
  },
  {
   "cell_type": "code",
   "execution_count": 2,
   "id": "9e006351",
   "metadata": {},
   "outputs": [],
   "source": [
    "## TF v1.x style\n",
    "g = tf.Graph()\n",
    "\n",
    "with g.as_default():\n",
    "    a = tf.constant(1, name='a')\n",
    "    b = tf.constant(2, name='b')\n",
    "    c = tf.constant(3, name='c')\n",
    "    z = 2 * (a - b) + c"
   ]
  },
  {
   "cell_type": "code",
   "execution_count": 3,
   "id": "00b2b6b6",
   "metadata": {},
   "outputs": [
    {
     "name": "stdout",
     "output_type": "stream",
     "text": [
      "Result: z = 1\n"
     ]
    },
    {
     "name": "stderr",
     "output_type": "stream",
     "text": [
      "2023-08-13 17:33:50.302324: W tensorflow/core/common_runtime/gpu/gpu_device.cc:1960] Cannot dlopen some GPU libraries. Please make sure the missing libraries mentioned above are installed properly if you would like to use GPU. Follow the guide at https://www.tensorflow.org/install/gpu for how to download and setup the required libraries for your platform.\n",
      "Skipping registering GPU devices...\n",
      "2023-08-13 17:33:50.306772: I tensorflow/compiler/mlir/mlir_graph_optimization_pass.cc:375] MLIR V1 optimization pass is not enabled\n"
     ]
    }
   ],
   "source": [
    "## TF v1.x style\n",
    "with tf.compat.v1.Session(graph=g) as sess: # creating an environment\n",
    "    print('Result: z =', sess.run(z))"
   ]
  },
  {
   "cell_type": "markdown",
   "id": "b38b0818",
   "metadata": {},
   "source": [
    "### Migrating a graph to TensorFlow v2"
   ]
  },
  {
   "cell_type": "code",
   "execution_count": 4,
   "id": "1a808d72",
   "metadata": {},
   "outputs": [
    {
     "name": "stdout",
     "output_type": "stream",
     "text": [
      "Result: z = 1\n"
     ]
    }
   ],
   "source": [
    "## TF v2 style\n",
    "a = tf.constant(1, name='a')\n",
    "b = tf.constant(2, name='b')\n",
    "c = tf.constant(3, name='c')\n",
    "z = 2 * (a - b) + c\n",
    "tf.print('Result: z =', z)"
   ]
  },
  {
   "cell_type": "markdown",
   "id": "141a4f3a",
   "metadata": {},
   "source": [
    "### Loading input data into a model: TensorFlow v1.x style"
   ]
  },
  {
   "cell_type": "code",
   "execution_count": 5,
   "id": "9b33621d",
   "metadata": {},
   "outputs": [
    {
     "name": "stdout",
     "output_type": "stream",
     "text": [
      "Result: z = 1\n"
     ]
    }
   ],
   "source": [
    "## TF-v1.x style\n",
    "g = tf.Graph()\n",
    "\n",
    "with g.as_default():\n",
    "    a = tf.compat.v1.placeholder(shape=None,\n",
    "                                 dtype=tf.int32, name='tf_a')\n",
    "    b = tf.compat.v1.placeholder(shape=None,\n",
    "                                 dtype=tf.int32, name='tf_b')\n",
    "    c = tf.compat.v1.placeholder(shape=None,\n",
    "                                 dtype=tf.int32, name='tf_c')\n",
    "    z = 2 * (a - b) + c\n",
    "    \n",
    "with tf.compat.v1.Session(graph=g) as sess:\n",
    "    feed_dict = {a:1, b:2, c:3}\n",
    "    print('Result: z =', sess.run(z, feed_dict=feed_dict))"
   ]
  },
  {
   "cell_type": "markdown",
   "id": "3da31de5",
   "metadata": {},
   "source": [
    "### Loading input data into a model: TensorFlow v2 style"
   ]
  },
  {
   "cell_type": "code",
   "execution_count": 6,
   "id": "d6637598",
   "metadata": {},
   "outputs": [],
   "source": [
    "## TF-v2 style\n",
    "def compute_z(a, b, c):\n",
    "    r1 = tf.subtract(a, b)\n",
    "    r2 = tf.multiply(2, r1)\n",
    "    z = tf.add(r2, c)\n",
    "    return z"
   ]
  },
  {
   "cell_type": "code",
   "execution_count": 7,
   "id": "d30b8b5b",
   "metadata": {},
   "outputs": [
    {
     "name": "stdout",
     "output_type": "stream",
     "text": [
      "Scalar Inputs: 1\n",
      "Rank 1 Inputs: [1]\n",
      "Rank 2 Inputs: [[1]]\n"
     ]
    }
   ],
   "source": [
    "tf.print('Scalar Inputs:', compute_z(1, 2, 3))\n",
    "tf.print('Rank 1 Inputs:', compute_z([1], [2], [3]))\n",
    "tf.print('Rank 2 Inputs:', compute_z([[1]], [[2]], [[3]]))"
   ]
  },
  {
   "cell_type": "markdown",
   "id": "2adc023e",
   "metadata": {},
   "source": [
    "### Improving computational performance with function decorators"
   ]
  },
  {
   "cell_type": "code",
   "execution_count": 8,
   "id": "2b4c8e6f",
   "metadata": {},
   "outputs": [],
   "source": [
    "@tf.function\n",
    "def compute_z(a, b, c):\n",
    "    r1 = tf.subtract(a, b)\n",
    "    r2 = tf.multiply(2, r1)\n",
    "    z = tf.add(r2, c)\n",
    "    return z"
   ]
  },
  {
   "cell_type": "code",
   "execution_count": 9,
   "id": "8d2cb821",
   "metadata": {},
   "outputs": [
    {
     "name": "stdout",
     "output_type": "stream",
     "text": [
      "Scalar Inputs: 1\n",
      "Rank 1 Inputs: [1]\n",
      "Rank 2 Inputs: [[1]]\n"
     ]
    }
   ],
   "source": [
    "tf.print('Scalar Inputs:', compute_z(1, 2, 3))\n",
    "tf.print('Rank 1 Inputs:', compute_z([1], [2], [3]))\n",
    "tf.print('Rank 2 Inputs:', compute_z([[1]], [[2]], [[3]]))"
   ]
  },
  {
   "cell_type": "code",
   "execution_count": 10,
   "id": "7a626c4b",
   "metadata": {},
   "outputs": [],
   "source": [
    "@tf.function(input_signature=(tf.TensorSpec(shape=[None],\n",
    "                                            dtype=tf.int32),\n",
    "                              tf.TensorSpec(shape=[None],\n",
    "                                            dtype=tf.int32),\n",
    "                              tf.TensorSpec(shape=[None],\n",
    "                                            dtype=tf.int32)))\n",
    "def compute_z(a, b, c):\n",
    "    r1 = tf.subtract(a, b)\n",
    "    r2 = tf.multiply(2, r1)\n",
    "    z = tf.add(r2, c)\n",
    "    return z"
   ]
  },
  {
   "cell_type": "code",
   "execution_count": 11,
   "id": "be4d2f57",
   "metadata": {},
   "outputs": [
    {
     "name": "stdout",
     "output_type": "stream",
     "text": [
      "Rank 1 Inputs: [1]\n",
      "Rank 1 Inputs: [1 2]\n"
     ]
    }
   ],
   "source": [
    "tf.print('Rank 1 Inputs:', compute_z([1], [2], [3]))\n",
    "tf.print('Rank 1 Inputs:', compute_z([1, 2], [2, 4], [3, 6]))"
   ]
  },
  {
   "cell_type": "markdown",
   "id": "780dff8e",
   "metadata": {},
   "source": [
    "Calling this function using tensors with ranks other than 1 will result in\n",
    "an error since the rank will not match the specified input signature:\n",
    "\n",
    "```python\n",
    "## we expect this to result in an error\n",
    "tf.print('Rank 2 Inputs:', compute_z([[1], [2]], [[2], [4]], [[3], [6]]))\n",
    "\n",
    "\n",
    "## >> Error:\n",
    "#ValueError: Python inputs incompatible with input_signature: \n",
    "#inputs (([[1], [2]], [[2], [4]], [[3], [6]])), input_signature \n",
    "#((TensorSpec(shape=(None,), dtype=tf.int32, name=None), \n",
    "#  TensorSpec(shape=(None,), dtype=tf.int32, name=None), \n",
    "#  TensorSpec(shape=(None,), dtype=tf.int32, name=None)))\n",
    "```"
   ]
  },
  {
   "cell_type": "code",
   "execution_count": 12,
   "id": "6df85815",
   "metadata": {},
   "outputs": [
    {
     "data": {
      "text/plain": [
       "TensorSpec(shape=(None,), dtype=tf.int32, name=None)"
      ]
     },
     "execution_count": 12,
     "metadata": {},
     "output_type": "execute_result"
    }
   ],
   "source": [
    "tf.TensorSpec(shape=[None], dtype=tf.int32)"
   ]
  },
  {
   "cell_type": "markdown",
   "id": "675524d1",
   "metadata": {},
   "source": [
    "## TensorFlow Variable objects for storing and updating model parameters"
   ]
  },
  {
   "cell_type": "code",
   "execution_count": 13,
   "id": "96e94e32",
   "metadata": {},
   "outputs": [
    {
     "name": "stdout",
     "output_type": "stream",
     "text": [
      "<tf.Variable 'var_a:0' shape=() dtype=float32, numpy=3.14>\n"
     ]
    }
   ],
   "source": [
    "a = tf.Variable(initial_value=3.14, name='var_a')\n",
    "print(a)"
   ]
  },
  {
   "cell_type": "code",
   "execution_count": 15,
   "id": "268a48d1",
   "metadata": {},
   "outputs": [
    {
     "name": "stdout",
     "output_type": "stream",
     "text": [
      "<tf.Variable 'var_b:0' shape=(3,) dtype=int32, numpy=array([1, 2, 3], dtype=int32)>\n"
     ]
    }
   ],
   "source": [
    "b = tf.Variable(initial_value=[1, 2, 3], name='var_b')\n",
    "print(b)"
   ]
  },
  {
   "cell_type": "code",
   "execution_count": 16,
   "id": "d6e6eabb",
   "metadata": {},
   "outputs": [
    {
     "name": "stdout",
     "output_type": "stream",
     "text": [
      "<tf.Variable 'Variable:0' shape=(2,) dtype=bool, numpy=array([ True, False])>\n"
     ]
    }
   ],
   "source": [
    "c = tf.Variable(initial_value=[True, False], dtype=tf.bool)\n",
    "print(c)"
   ]
  },
  {
   "cell_type": "code",
   "execution_count": 17,
   "id": "70cb0432",
   "metadata": {},
   "outputs": [
    {
     "name": "stdout",
     "output_type": "stream",
     "text": [
      "<tf.Variable 'Variable:0' shape=(1,) dtype=string, numpy=array([b'abc'], dtype=object)>\n"
     ]
    }
   ],
   "source": [
    "d = tf.Variable(initial_value=['abc'], dtype=tf.string)\n",
    "print(d)"
   ]
  },
  {
   "cell_type": "code",
   "execution_count": 18,
   "id": "a9ba9e8c",
   "metadata": {},
   "outputs": [
    {
     "name": "stdout",
     "output_type": "stream",
     "text": [
      "False\n"
     ]
    }
   ],
   "source": [
    "w = tf.Variable([1, 2, 3], trainable=False)\n",
    "print(w.trainable)"
   ]
  },
  {
   "cell_type": "code",
   "execution_count": 19,
   "id": "993fece9",
   "metadata": {},
   "outputs": [
    {
     "name": "stdout",
     "output_type": "stream",
     "text": [
      "<tf.Variable 'UnreadVariable' shape=(3,) dtype=int32, numpy=array([3, 1, 4], dtype=int32)>\n"
     ]
    }
   ],
   "source": [
    "print(w.assign([3, 1, 4], read_value=True))"
   ]
  },
  {
   "cell_type": "code",
   "execution_count": 21,
   "id": "acc69035",
   "metadata": {},
   "outputs": [
    {
     "name": "stdout",
     "output_type": "stream",
     "text": [
      "tf.Tensor([ 7 -1  8], shape=(3,), dtype=int32)\n"
     ]
    }
   ],
   "source": [
    "w.assign_add([2, -1, 2], read_value=False)\n",
    "print(w.value())"
   ]
  },
  {
   "cell_type": "code",
   "execution_count": 22,
   "id": "1050a670",
   "metadata": {},
   "outputs": [
    {
     "name": "stdout",
     "output_type": "stream",
     "text": [
      "[-0.407967627 -0.439122617 0.192646936]\n"
     ]
    }
   ],
   "source": [
    "tf.random.set_seed(1)\n",
    "init = tf.keras.initializers.GlorotNormal()\n",
    "tf.print(init(shape=(3,)))"
   ]
  },
  {
   "cell_type": "code",
   "execution_count": 23,
   "id": "68eaa3c4",
   "metadata": {},
   "outputs": [
    {
     "name": "stdout",
     "output_type": "stream",
     "text": [
      "[[-0.446906149 -0.481034726 0.211034134]\n",
      " [-0.739619195 -0.185035869 0.158578008]]\n"
     ]
    },
    {
     "name": "stderr",
     "output_type": "stream",
     "text": [
      "/home/sann-htet/anaconda3/envs/tensorflow/lib/python3.11/site-packages/keras/src/initializers/initializers.py:120: UserWarning: The initializer GlorotNormal is unseeded and being called multiple times, which will return identical values each time (even if the initializer is unseeded). Please update your code to provide a seed to the initializer, or avoid using the same initializer instance more than once.\n",
      "  warnings.warn(\n"
     ]
    }
   ],
   "source": [
    "v = tf.Variable(init(shape=(2, 3)))\n",
    "tf.print(v)"
   ]
  },
  {
   "cell_type": "code",
   "execution_count": 24,
   "id": "43c6e7b0",
   "metadata": {},
   "outputs": [],
   "source": [
    "class MyModule(tf.Module):\n",
    "    def __init__(self):\n",
    "        init = tf.keras.initializers.GlorotNormal()\n",
    "        self.w1 = tf.Variable(init(shape=(2, 3)), trainable=True)\n",
    "        self.w2 = tf.Variable(init(shape=(1, 2)), trainable=False)"
   ]
  },
  {
   "cell_type": "code",
   "execution_count": 25,
   "id": "4cbd76e7",
   "metadata": {},
   "outputs": [
    {
     "name": "stdout",
     "output_type": "stream",
     "text": [
      "All module variables: [TensorShape([2, 3]), TensorShape([1, 2])]\n"
     ]
    },
    {
     "name": "stderr",
     "output_type": "stream",
     "text": [
      "/home/sann-htet/anaconda3/envs/tensorflow/lib/python3.11/site-packages/keras/src/initializers/initializers.py:120: UserWarning: The initializer GlorotNormal is unseeded and being called multiple times, which will return identical values each time (even if the initializer is unseeded). Please update your code to provide a seed to the initializer, or avoid using the same initializer instance more than once.\n",
      "  warnings.warn(\n"
     ]
    }
   ],
   "source": [
    "m = MyModule()\n",
    "print('All module variables:', [v.shape for v in m.variables])"
   ]
  },
  {
   "cell_type": "code",
   "execution_count": 26,
   "id": "089456e3",
   "metadata": {},
   "outputs": [
    {
     "name": "stdout",
     "output_type": "stream",
     "text": [
      "Trainable variable: [TensorShape([2, 3])]\n"
     ]
    }
   ],
   "source": [
    "print('Trainable variable:', [v.shape for v in m.trainable_variables])"
   ]
  },
  {
   "cell_type": "markdown",
   "id": "f71fb925",
   "metadata": {},
   "source": [
    "#### Variables with tf.function"
   ]
  },
  {
   "cell_type": "markdown",
   "id": "ca19b67c",
   "metadata": {},
   "source": [
    "```python\n",
    "\n",
    "## this will produce an error\n",
    "## ==> you cannot create a varibale inside a\n",
    "##     decorated function\n",
    "\n",
    "@tf.function\n",
    "def f(x):\n",
    "    w = tf.Variable([1, 2, 3])\n",
    "\n",
    "f([1])\n",
    "\n",
    "## ==> results in error\n",
    "## ValueError: tf.function-decorated function tried to create variables on non-first call.\n",
    "\n",
    "```"
   ]
  },
  {
   "cell_type": "code",
   "execution_count": 31,
   "id": "4f0f943a",
   "metadata": {},
   "outputs": [],
   "source": [
    "w = tf.Variable(tf.random.uniform((3, 3)))\n",
    "@tf.function\n",
    "def compute_z(x):\n",
    "    return tf.matmul(w, x)"
   ]
  },
  {
   "cell_type": "code",
   "execution_count": 32,
   "id": "d3feaa81",
   "metadata": {},
   "outputs": [
    {
     "name": "stdout",
     "output_type": "stream",
     "text": [
      "[[3.64191628]\n",
      " [1.69833195]\n",
      " [3.06276083]]\n"
     ]
    }
   ],
   "source": [
    "x = tf.constant([[1], [2], [3]], dtype=tf.float32)\n",
    "tf.print(compute_z(x))"
   ]
  },
  {
   "cell_type": "markdown",
   "id": "20d2e05e",
   "metadata": {},
   "source": [
    "## Computing gradients via automatic differentiation and GradientTape"
   ]
  },
  {
   "cell_type": "markdown",
   "id": "15f25bde",
   "metadata": {},
   "source": [
    "### Computing the gradients of the loss with respect to trainable variables"
   ]
  },
  {
   "cell_type": "code",
   "execution_count": null,
   "id": "2b919fd2",
   "metadata": {},
   "outputs": [],
   "source": []
  }
 ],
 "metadata": {
  "kernelspec": {
   "display_name": "Python 3 (ipykernel)",
   "language": "python",
   "name": "python3"
  },
  "language_info": {
   "codemirror_mode": {
    "name": "ipython",
    "version": 3
   },
   "file_extension": ".py",
   "mimetype": "text/x-python",
   "name": "python",
   "nbconvert_exporter": "python",
   "pygments_lexer": "ipython3",
   "version": "3.11.4"
  }
 },
 "nbformat": 4,
 "nbformat_minor": 5
}
