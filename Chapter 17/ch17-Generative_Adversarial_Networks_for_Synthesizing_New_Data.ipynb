{
 "cells": [
  {
   "cell_type": "markdown",
   "id": "3aff6190",
   "metadata": {},
   "source": [
    "# Introducing generative adversarial networks"
   ]
  },
  {
   "cell_type": "markdown",
   "id": "ffae94d2",
   "metadata": {},
   "source": [
    "## Implementing the generator and the discriminator networks "
   ]
  },
  {
   "cell_type": "code",
   "execution_count": 1,
   "id": "152c3e94",
   "metadata": {},
   "outputs": [
    {
     "name": "stderr",
     "output_type": "stream",
     "text": [
      "2023-08-21 13:21:29.440199: I tensorflow/tsl/cuda/cudart_stub.cc:28] Could not find cuda drivers on your machine, GPU will not be used.\n",
      "2023-08-21 13:21:29.520277: I tensorflow/tsl/cuda/cudart_stub.cc:28] Could not find cuda drivers on your machine, GPU will not be used.\n",
      "2023-08-21 13:21:29.521303: I tensorflow/core/platform/cpu_feature_guard.cc:182] This TensorFlow binary is optimized to use available CPU instructions in performance-critical operations.\n",
      "To enable the following instructions: AVX2 FMA, in other operations, rebuild TensorFlow with the appropriate compiler flags.\n",
      "2023-08-21 13:21:31.516298: W tensorflow/compiler/tf2tensorrt/utils/py_utils.cc:38] TF-TRT Warning: Could not find TensorRT\n",
      "/home/sann-htet/anaconda3/envs/tensorflow/lib/python3.11/site-packages/tqdm/auto.py:21: TqdmWarning: IProgress not found. Please update jupyter and ipywidgets. See https://ipywidgets.readthedocs.io/en/stable/user_install.html\n",
      "  from .autonotebook import tqdm as notebook_tqdm\n"
     ]
    }
   ],
   "source": [
    "import tensorflow as tf\n",
    "import tensorflow_datasets as tfds\n",
    "import numpy as np\n",
    "import matplotlib.pyplot as plt"
   ]
  },
  {
   "cell_type": "code",
   "execution_count": 2,
   "id": "c37bba24",
   "metadata": {},
   "outputs": [],
   "source": [
    "## define a function for the generator\n",
    "def make_generator_network(num_hidden_layers=1, num_hidden_units=100, num_output_units=784):\n",
    "    model = tf.keras.Sequential()\n",
    "    for i in range(num_hidden_layers):\n",
    "        model.add(tf.keras.layers.Dense(units=num_hidden_units, use_bias=False))\n",
    "        model.add(tf.keras.layers.LeakyReLU())\n",
    "        \n",
    "    model.add(tf.keras.layers.Dense(units=num_output_units, activation='tanh'))\n",
    "    return model\n",
    "\n",
    "## define a function for the discriminator\n",
    "def make_discriminator_network(num_hidden_layers=1, num_hidden_units=100, num_output_units=1):\n",
    "    model = tf.keras.Sequential()\n",
    "    for i in range(num_hidden_layers):\n",
    "        model.add(tf.keras.layers.Dense(units=num_hidden_units))\n",
    "        model.add(tf.keras.layers.LeakyReLU())\n",
    "        model.add(tf.keras.layers.Dropout(rate=0.5))\n",
    "        \n",
    "    model.add(tf.keras.layers.Dense(units=num_output_units, activation=None))\n",
    "    return model"
   ]
  },
  {
   "cell_type": "code",
   "execution_count": 9,
   "id": "7ebbad58",
   "metadata": {},
   "outputs": [
    {
     "name": "stdout",
     "output_type": "stream",
     "text": [
      "Model: \"sequential\"\n",
      "_________________________________________________________________\n",
      " Layer (type)                Output Shape              Param #   \n",
      "=================================================================\n",
      " dense (Dense)               (None, 100)               2000      \n",
      "                                                                 \n",
      " leaky_re_lu (LeakyReLU)     (None, 100)               0         \n",
      "                                                                 \n",
      " dense_1 (Dense)             (None, 784)               79184     \n",
      "                                                                 \n",
      "=================================================================\n",
      "Total params: 81184 (317.12 KB)\n",
      "Trainable params: 81184 (317.12 KB)\n",
      "Non-trainable params: 0 (0.00 Byte)\n",
      "_________________________________________________________________\n"
     ]
    },
    {
     "name": "stderr",
     "output_type": "stream",
     "text": [
      "2023-08-21 13:29:52.281705: W tensorflow/core/common_runtime/gpu/gpu_device.cc:1960] Cannot dlopen some GPU libraries. Please make sure the missing libraries mentioned above are installed properly if you would like to use GPU. Follow the guide at https://www.tensorflow.org/install/gpu for how to download and setup the required libraries for your platform.\n",
      "Skipping registering GPU devices...\n"
     ]
    }
   ],
   "source": [
    "image_size = (28, 28)\n",
    "z_size = 20\n",
    "mode_z = 'uniform'  # 'uniform' vs. 'normal'\n",
    "gen_hidden_layers = 1\n",
    "gen_hidden_size = 100\n",
    "disc_hidden_layers = 1\n",
    "disc_hidden_size = 100\n",
    "\n",
    "tf.random.set_seed(1)\n",
    "\n",
    "gen_model = make_generator_network(\n",
    "    num_hidden_layers=gen_hidden_layers, \n",
    "    num_hidden_units=gen_hidden_size,\n",
    "    num_output_units=np.prod(image_size))\n",
    "\n",
    "gen_model.build(input_shape=(None, z_size))\n",
    "gen_model.summary()"
   ]
  },
  {
   "cell_type": "code",
   "execution_count": 10,
   "id": "6576aeba",
   "metadata": {},
   "outputs": [
    {
     "name": "stdout",
     "output_type": "stream",
     "text": [
      "Model: \"sequential_1\"\n",
      "_________________________________________________________________\n",
      " Layer (type)                Output Shape              Param #   \n",
      "=================================================================\n",
      " dense_2 (Dense)             (None, 100)               78500     \n",
      "                                                                 \n",
      " leaky_re_lu_1 (LeakyReLU)   (None, 100)               0         \n",
      "                                                                 \n",
      " dropout (Dropout)           (None, 100)               0         \n",
      "                                                                 \n",
      " dense_3 (Dense)             (None, 1)                 101       \n",
      "                                                                 \n",
      "=================================================================\n",
      "Total params: 78601 (307.04 KB)\n",
      "Trainable params: 78601 (307.04 KB)\n",
      "Non-trainable params: 0 (0.00 Byte)\n",
      "_________________________________________________________________\n"
     ]
    }
   ],
   "source": [
    "disc_model = make_discriminator_network(\n",
    "    num_hidden_layers=disc_hidden_layers,\n",
    "    num_hidden_units=disc_hidden_size)\n",
    "\n",
    "disc_model.build(input_shape=(None, np.prod(image_size)))\n",
    "disc_model.summary()"
   ]
  },
  {
   "cell_type": "markdown",
   "id": "140d4a9f",
   "metadata": {},
   "source": [
    "## Defining the training dataset"
   ]
  },
  {
   "cell_type": "code",
   "execution_count": 13,
   "id": "ba0fb302",
   "metadata": {},
   "outputs": [],
   "source": [
    "mnist = tfds.load('mnist')\n",
    "\n",
    "def preprocess(ex, mode='uniform'):\n",
    "    image = ex['image']\n",
    "    image = tf.image.convert_image_dtype(image, tf.float32)\n",
    "    image = tf.reshape(image, [-1])\n",
    "    image = image*2 - 1.0\n",
    "    if mode == 'uniform':\n",
    "        input_z = tf.random.uniform(shape=(z_size,), minval=-1.0, maxval=1.0)\n",
    "    elif mode == 'normal':\n",
    "        input_z = tf.random.normal(shape=(z_size,))\n",
    "    return input_z, image\n",
    "\n",
    "mnist_trainset = mnist['train']\n",
    "mnist_trainset = mnist_trainset.map(preprocess)"
   ]
  },
  {
   "cell_type": "code",
   "execution_count": 20,
   "id": "7f059c54",
   "metadata": {},
   "outputs": [
    {
     "name": "stdout",
     "output_type": "stream",
     "text": [
      "input-z -- shape: (32, 20)\n",
      "input-real -- shape: (32, 784)\n",
      "Output of G -- shape: (32, 784)\n",
      "Disc. (real) -- shape: (32, 1)\n",
      "Disc. (fake) -- shape: (32, 1)\n"
     ]
    }
   ],
   "source": [
    "mnist_trainset = mnist_trainset.batch(32, drop_remainder=True)\n",
    "input_z, input_real = next(iter(mnist_trainset))\n",
    "print('input-z -- shape:', input_z.shape)\n",
    "print('input-real -- shape:', input_real.shape)\n",
    "\n",
    "g_output = gen_model(input_z)\n",
    "print('Output of G -- shape:', g_output.shape)\n",
    "\n",
    "d_logits_real = disc_model(input_real)\n",
    "d_logits_fake = disc_model(g_output)\n",
    "print('Disc. (real) -- shape:', d_logits_real.shape)\n",
    "print('Disc. (fake) -- shape:', d_logits_fake.shape)"
   ]
  },
  {
   "cell_type": "markdown",
   "id": "c3a7d828",
   "metadata": {},
   "source": [
    "## Training the GAN model"
   ]
  },
  {
   "cell_type": "code",
   "execution_count": 21,
   "id": "10ba8d77",
   "metadata": {},
   "outputs": [
    {
     "name": "stdout",
     "output_type": "stream",
     "text": [
      "Generator Loss: 0.6809\n",
      "Discriminator Losses: Real 0.4278 Fake 0.7091\n"
     ]
    }
   ],
   "source": [
    "loss_fn = tf.keras.losses.BinaryCrossentropy(from_logits=True)\n",
    "\n",
    "## Loss for the Generator\n",
    "g_labels_real = tf.ones_like(d_logits_fake)\n",
    "g_loss = loss_fn(y_true=g_labels_real, y_pred=d_logits_fake)\n",
    "print('Generator Loss: {:.4f}'.format(g_loss))\n",
    "\n",
    "## Loss for the Discriminator\n",
    "d_labels_real = tf.ones_like(d_logits_real)\n",
    "d_labels_fake = tf.zeros_like(d_logits_fake)\n",
    "\n",
    "d_loss_real = loss_fn(y_true=d_labels_real, y_pred=d_logits_real)\n",
    "d_loss_fake = loss_fn(y_true=d_labels_fake, y_pred=d_logits_fake)\n",
    "\n",
    "print('Discriminator Losses: Real {:.4f} Fake {:.4f}'.format(d_loss_real.numpy(), d_loss_fake.numpy()))"
   ]
  },
  {
   "cell_type": "code",
   "execution_count": 23,
   "id": "263f3ae6",
   "metadata": {},
   "outputs": [
    {
     "name": "stdout",
     "output_type": "stream",
     "text": [
      "2.13.0\n",
      "WARNING:tensorflow:From /tmp/ipykernel_75429/3209078530.py:3: is_gpu_available (from tensorflow.python.framework.test_util) is deprecated and will be removed in a future version.\n",
      "Instructions for updating:\n",
      "Use `tf.config.list_physical_devices('GPU')` instead.\n"
     ]
    },
    {
     "name": "stderr",
     "output_type": "stream",
     "text": [
      "WARNING:tensorflow:From /tmp/ipykernel_75429/3209078530.py:3: is_gpu_available (from tensorflow.python.framework.test_util) is deprecated and will be removed in a future version.\n",
      "Instructions for updating:\n",
      "Use `tf.config.list_physical_devices('GPU')` instead.\n"
     ]
    },
    {
     "name": "stdout",
     "output_type": "stream",
     "text": [
      "GPU Available: False\n",
      "cpu:0\n"
     ]
    },
    {
     "name": "stderr",
     "output_type": "stream",
     "text": [
      "2023-08-21 14:15:30.880374: W tensorflow/core/common_runtime/gpu/gpu_device.cc:1960] Cannot dlopen some GPU libraries. Please make sure the missing libraries mentioned above are installed properly if you would like to use GPU. Follow the guide at https://www.tensorflow.org/install/gpu for how to download and setup the required libraries for your platform.\n",
      "Skipping registering GPU devices...\n",
      "2023-08-21 14:15:30.955290: W tensorflow/core/common_runtime/gpu/gpu_device.cc:1960] Cannot dlopen some GPU libraries. Please make sure the missing libraries mentioned above are installed properly if you would like to use GPU. Follow the guide at https://www.tensorflow.org/install/gpu for how to download and setup the required libraries for your platform.\n",
      "Skipping registering GPU devices...\n"
     ]
    }
   ],
   "source": [
    "print(tf.__version__)\n",
    "\n",
    "print(\"GPU Available:\", tf.test.is_gpu_available())\n",
    "\n",
    "if tf.test.is_gpu_available():\n",
    "    device_name = tf.test.gpu_device_name()\n",
    "\n",
    "else:\n",
    "    device_name = 'cpu:0'\n",
    "    \n",
    "print(device_name)"
   ]
  },
  {
   "cell_type": "markdown",
   "id": "42f514aa",
   "metadata": {},
   "source": [
    " * **Final training**"
   ]
  },
  {
   "cell_type": "code",
   "execution_count": null,
   "id": "b5695696",
   "metadata": {},
   "outputs": [
    {
     "name": "stdout",
     "output_type": "stream",
     "text": [
      "Epoch 001 | ET 1.52 min | Avg Losses >> G/D 2.8511/0.3065 [D-Real: 0.0380 D-Fake: 0.2685]\n",
      "Epoch 002 | ET 3.04 min | Avg Losses >> G/D 5.1953/0.3380 [D-Real: 0.1098 D-Fake: 0.2282]\n",
      "Epoch 003 | ET 4.55 min | Avg Losses >> G/D 2.8979/0.7786 [D-Real: 0.3559 D-Fake: 0.4228]\n"
     ]
    }
   ],
   "source": [
    "import time\n",
    "\n",
    "\n",
    "num_epochs = 100\n",
    "batch_size = 64\n",
    "image_size = (28, 28)\n",
    "z_size = 20\n",
    "mode_z = 'uniform'\n",
    "gen_hidden_layers = 1\n",
    "gen_hidden_size = 100\n",
    "disc_hidden_layers = 1\n",
    "disc_hidden_size = 100\n",
    "\n",
    "tf.random.set_seed(1)\n",
    "np.random.seed(1)\n",
    "\n",
    "\n",
    "if mode_z == 'uniform':\n",
    "    fixed_z = tf.random.uniform(\n",
    "        shape=(batch_size, z_size),\n",
    "        minval=-1, maxval=1)\n",
    "elif mode_z == 'normal':\n",
    "    fixed_z = tf.random.normal(\n",
    "        shape=(batch_size, z_size))\n",
    "\n",
    "\n",
    "def create_samples(g_model, input_z):\n",
    "    g_output = g_model(input_z, training=False)\n",
    "    images = tf.reshape(g_output, (batch_size, *image_size))    \n",
    "    return (images+1)/2.0\n",
    "\n",
    "## Set-up the dataset\n",
    "mnist_trainset = mnist['train']\n",
    "mnist_trainset = mnist_trainset.map(\n",
    "    lambda ex: preprocess(ex, mode=mode_z))\n",
    "\n",
    "mnist_trainset = mnist_trainset.shuffle(10000)\n",
    "mnist_trainset = mnist_trainset.batch(\n",
    "    batch_size, drop_remainder=True)\n",
    "\n",
    "## Set-up the model\n",
    "with tf.device(device_name):\n",
    "    gen_model = make_generator_network(\n",
    "        num_hidden_layers=gen_hidden_layers, \n",
    "        num_hidden_units=gen_hidden_size,\n",
    "        num_output_units=np.prod(image_size))\n",
    "    gen_model.build(input_shape=(None, z_size))\n",
    "\n",
    "    disc_model = make_discriminator_network(\n",
    "        num_hidden_layers=disc_hidden_layers,\n",
    "        num_hidden_units=disc_hidden_size)\n",
    "    disc_model.build(input_shape=(None, np.prod(image_size)))\n",
    "\n",
    "## Loss function and optimizers:\n",
    "loss_fn = tf.keras.losses.BinaryCrossentropy(from_logits=True)\n",
    "g_optimizer = tf.keras.optimizers.Adam()\n",
    "d_optimizer = tf.keras.optimizers.Adam()\n",
    "\n",
    "all_losses = []\n",
    "all_d_vals = []\n",
    "epoch_samples = []\n",
    "\n",
    "start_time = time.time()\n",
    "for epoch in range(1, num_epochs+1):\n",
    "    epoch_losses, epoch_d_vals = [], []\n",
    "    for i,(input_z,input_real) in enumerate(mnist_trainset):\n",
    "        \n",
    "        ## Compute generator's loss\n",
    "        with tf.GradientTape() as g_tape:\n",
    "            g_output = gen_model(input_z)\n",
    "            d_logits_fake = disc_model(g_output, training=True)\n",
    "            labels_real = tf.ones_like(d_logits_fake)\n",
    "            g_loss = loss_fn(y_true=labels_real, y_pred=d_logits_fake)\n",
    "            \n",
    "        g_grads = g_tape.gradient(g_loss, gen_model.trainable_variables)\n",
    "        g_optimizer.apply_gradients(\n",
    "            grads_and_vars=zip(g_grads, gen_model.trainable_variables))\n",
    "\n",
    "        ## Compute discriminator's loss\n",
    "        with tf.GradientTape() as d_tape:\n",
    "            d_logits_real = disc_model(input_real, training=True)\n",
    "\n",
    "            d_labels_real = tf.ones_like(d_logits_real)\n",
    "            \n",
    "            d_loss_real = loss_fn(\n",
    "                y_true=d_labels_real, y_pred=d_logits_real)\n",
    "\n",
    "            d_logits_fake = disc_model(g_output, training=True)\n",
    "            d_labels_fake = tf.zeros_like(d_logits_fake)\n",
    "\n",
    "            d_loss_fake = loss_fn(\n",
    "                y_true=d_labels_fake, y_pred=d_logits_fake)\n",
    "\n",
    "            d_loss = d_loss_real + d_loss_fake\n",
    "\n",
    "        ## Compute the gradients of d_loss\n",
    "        d_grads = d_tape.gradient(d_loss, disc_model.trainable_variables)\n",
    "        \n",
    "        ## Optimization: Apply the gradients\n",
    "        d_optimizer.apply_gradients(\n",
    "            grads_and_vars=zip(d_grads, disc_model.trainable_variables))\n",
    "                           \n",
    "        epoch_losses.append(\n",
    "            (g_loss.numpy(), d_loss.numpy(), \n",
    "             d_loss_real.numpy(), d_loss_fake.numpy()))\n",
    "        \n",
    "        d_probs_real = tf.reduce_mean(tf.sigmoid(d_logits_real))\n",
    "        d_probs_fake = tf.reduce_mean(tf.sigmoid(d_logits_fake))\n",
    "        epoch_d_vals.append((d_probs_real.numpy(), d_probs_fake.numpy()))        \n",
    "    all_losses.append(epoch_losses)\n",
    "    all_d_vals.append(epoch_d_vals)\n",
    "    print(\n",
    "        'Epoch {:03d} | ET {:.2f} min | Avg Losses >>'\n",
    "        ' G/D {:.4f}/{:.4f} [D-Real: {:.4f} D-Fake: {:.4f}]'\n",
    "        .format(\n",
    "            epoch, (time.time() - start_time)/60, \n",
    "            *list(np.mean(all_losses[-1], axis=0))))\n",
    "    epoch_samples.append(\n",
    "        create_samples(gen_model, fixed_z).numpy())"
   ]
  },
  {
   "cell_type": "code",
   "execution_count": null,
   "id": "a40ed1cb",
   "metadata": {},
   "outputs": [],
   "source": [
    "#import pickle\n",
    "# pickle.dump({'all_losses':all_losses, \n",
    "#              'all_d_vals':all_d_vals,\n",
    "#              'samples':epoch_samples}, \n",
    "#             open('/content/drive/My Drive/Colab Notebooks/PyML-3rd-edition/ch17-vanila-learning.pkl', 'wb'))\n",
    "\n",
    "#gen_model.save('/content/drive/My Drive/Colab Notebooks/PyML-3rd-edition/ch17-vanila-gan_gen.h5')\n",
    "#disc_model.save('/content/drive/My Drive/Colab Notebooks/PyML-3rd-edition/ch17-vanila-gan_disc.h5')"
   ]
  },
  {
   "cell_type": "code",
   "execution_count": null,
   "id": "69563a3c",
   "metadata": {},
   "outputs": [],
   "source": []
  }
 ],
 "metadata": {
  "kernelspec": {
   "display_name": "Python 3 (ipykernel)",
   "language": "python",
   "name": "python3"
  },
  "language_info": {
   "codemirror_mode": {
    "name": "ipython",
    "version": 3
   },
   "file_extension": ".py",
   "mimetype": "text/x-python",
   "name": "python",
   "nbconvert_exporter": "python",
   "pygments_lexer": "ipython3",
   "version": "3.11.4"
  }
 },
 "nbformat": 4,
 "nbformat_minor": 5
}
