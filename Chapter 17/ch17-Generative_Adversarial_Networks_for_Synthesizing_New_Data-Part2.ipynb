{
 "cells": [
  {
   "cell_type": "markdown",
   "id": "f0606c22",
   "metadata": {},
   "source": [
    "# Improving the quality of synthesized images using a convolutional and Wasserstein GAN"
   ]
  },
  {
   "cell_type": "markdown",
   "id": "126e28b1",
   "metadata": {},
   "source": [
    "## Implementing the generator and discriminator"
   ]
  },
  {
   "cell_type": "code",
   "execution_count": 5,
   "id": "bdc3fbd6",
   "metadata": {},
   "outputs": [
    {
     "name": "stderr",
     "output_type": "stream",
     "text": [
      "2023-08-24 14:06:35.368517: I tensorflow/tsl/cuda/cudart_stub.cc:28] Could not find cuda drivers on your machine, GPU will not be used.\n",
      "2023-08-24 14:06:35.447622: I tensorflow/tsl/cuda/cudart_stub.cc:28] Could not find cuda drivers on your machine, GPU will not be used.\n",
      "2023-08-24 14:06:35.448630: I tensorflow/core/platform/cpu_feature_guard.cc:182] This TensorFlow binary is optimized to use available CPU instructions in performance-critical operations.\n",
      "To enable the following instructions: AVX2 FMA, in other operations, rebuild TensorFlow with the appropriate compiler flags.\n",
      "2023-08-24 14:06:37.221159: W tensorflow/compiler/tf2tensorrt/utils/py_utils.cc:38] TF-TRT Warning: Could not find TensorRT\n"
     ]
    }
   ],
   "source": [
    "import tensorflow as tf\n",
    "import tensorflow_datasets as tfds\n",
    "import numpy as np\n",
    "import matplotlib.pyplot as plt"
   ]
  },
  {
   "cell_type": "code",
   "execution_count": 6,
   "id": "e8147de7",
   "metadata": {},
   "outputs": [],
   "source": [
    "def make_dcgan_generator(\n",
    "        z_size=20, \n",
    "        output_size=(28, 28, 1),\n",
    "        n_filters=128, \n",
    "        n_blocks=2):\n",
    "    size_factor = 2**n_blocks\n",
    "    hidden_size = (\n",
    "        output_size[0]//size_factor, \n",
    "        output_size[1]//size_factor\n",
    "    )\n",
    "    \n",
    "    model = tf.keras.Sequential([\n",
    "        tf.keras.layers.Input(shape=(z_size,)),\n",
    "        \n",
    "        tf.keras.layers.Dense(\n",
    "            units=n_filters*np.prod(hidden_size), \n",
    "            use_bias=False),\n",
    "        tf.keras.layers.BatchNormalization(),\n",
    "        tf.keras.layers.LeakyReLU(),\n",
    "        tf.keras.layers.Reshape(\n",
    "            (hidden_size[0], hidden_size[1], n_filters)),\n",
    "    \n",
    "        tf.keras.layers.Conv2DTranspose(\n",
    "            filters=n_filters, kernel_size=(5, 5), strides=(1, 1),\n",
    "            padding='same', use_bias=False),\n",
    "        tf.keras.layers.BatchNormalization(),\n",
    "        tf.keras.layers.LeakyReLU()\n",
    "    ])\n",
    "        \n",
    "    nf = n_filters\n",
    "    for i in range(n_blocks):\n",
    "        nf = nf // 2\n",
    "        model.add(\n",
    "            tf.keras.layers.Conv2DTranspose(\n",
    "                filters=nf, kernel_size=(5, 5), strides=(2, 2),\n",
    "                padding='same', use_bias=False))\n",
    "        model.add(tf.keras.layers.BatchNormalization())\n",
    "        model.add(tf.keras.layers.LeakyReLU())\n",
    "                \n",
    "    model.add(\n",
    "        tf.keras.layers.Conv2DTranspose(\n",
    "            filters=output_size[2], kernel_size=(5, 5), \n",
    "            strides=(1, 1), padding='same', use_bias=False, \n",
    "            activation='tanh'))\n",
    "        \n",
    "    return model\n",
    "\n",
    "def make_dcgan_discriminator(\n",
    "        input_size=(28, 28, 1),\n",
    "        n_filters=64, \n",
    "        n_blocks=2):\n",
    "    model = tf.keras.Sequential([\n",
    "        tf.keras.layers.Input(shape=input_size),\n",
    "        tf.keras.layers.Conv2D(\n",
    "            filters=n_filters, kernel_size=5, \n",
    "            strides=(1, 1), padding='same'),\n",
    "        tf.keras.layers.BatchNormalization(),\n",
    "        tf.keras.layers.LeakyReLU()\n",
    "    ])\n",
    "    \n",
    "    nf = n_filters\n",
    "    for i in range(n_blocks):\n",
    "        nf = nf*2\n",
    "        model.add(\n",
    "            tf.keras.layers.Conv2D(\n",
    "                filters=nf, kernel_size=(5, 5), \n",
    "                strides=(2, 2),padding='same'))\n",
    "        model.add(tf.keras.layers.BatchNormalization())\n",
    "        model.add(tf.keras.layers.LeakyReLU())\n",
    "        model.add(tf.keras.layers.Dropout(0.3))\n",
    "        \n",
    "    model.add(tf.keras.layers.Conv2D(\n",
    "            filters=1, kernel_size=(7, 7), padding='valid'))\n",
    "    \n",
    "    model.add(tf.keras.layers.Reshape((1,)))\n",
    "    \n",
    "    return model"
   ]
  },
  {
   "cell_type": "code",
   "execution_count": 7,
   "id": "633cc5aa",
   "metadata": {},
   "outputs": [
    {
     "name": "stderr",
     "output_type": "stream",
     "text": [
      "2023-08-24 14:06:38.950315: W tensorflow/core/common_runtime/gpu/gpu_device.cc:1960] Cannot dlopen some GPU libraries. Please make sure the missing libraries mentioned above are installed properly if you would like to use GPU. Follow the guide at https://www.tensorflow.org/install/gpu for how to download and setup the required libraries for your platform.\n",
      "Skipping registering GPU devices...\n"
     ]
    },
    {
     "name": "stdout",
     "output_type": "stream",
     "text": [
      "Model: \"sequential\"\n",
      "_________________________________________________________________\n",
      " Layer (type)                Output Shape              Param #   \n",
      "=================================================================\n",
      " dense (Dense)               (None, 6272)              125440    \n",
      "                                                                 \n",
      " batch_normalization (Batch  (None, 6272)              25088     \n",
      " Normalization)                                                  \n",
      "                                                                 \n",
      " leaky_re_lu (LeakyReLU)     (None, 6272)              0         \n",
      "                                                                 \n",
      " reshape (Reshape)           (None, 7, 7, 128)         0         \n",
      "                                                                 \n",
      " conv2d_transpose (Conv2DTr  (None, 7, 7, 128)         409600    \n",
      " anspose)                                                        \n",
      "                                                                 \n",
      " batch_normalization_1 (Bat  (None, 7, 7, 128)         512       \n",
      " chNormalization)                                                \n",
      "                                                                 \n",
      " leaky_re_lu_1 (LeakyReLU)   (None, 7, 7, 128)         0         \n",
      "                                                                 \n",
      " conv2d_transpose_1 (Conv2D  (None, 14, 14, 64)        204800    \n",
      " Transpose)                                                      \n",
      "                                                                 \n",
      " batch_normalization_2 (Bat  (None, 14, 14, 64)        256       \n",
      " chNormalization)                                                \n",
      "                                                                 \n",
      " leaky_re_lu_2 (LeakyReLU)   (None, 14, 14, 64)        0         \n",
      "                                                                 \n",
      " conv2d_transpose_2 (Conv2D  (None, 28, 28, 32)        51200     \n",
      " Transpose)                                                      \n",
      "                                                                 \n",
      " batch_normalization_3 (Bat  (None, 28, 28, 32)        128       \n",
      " chNormalization)                                                \n",
      "                                                                 \n",
      " leaky_re_lu_3 (LeakyReLU)   (None, 28, 28, 32)        0         \n",
      "                                                                 \n",
      " conv2d_transpose_3 (Conv2D  (None, 28, 28, 1)         800       \n",
      " Transpose)                                                      \n",
      "                                                                 \n",
      "=================================================================\n",
      "Total params: 817824 (3.12 MB)\n",
      "Trainable params: 804832 (3.07 MB)\n",
      "Non-trainable params: 12992 (50.75 KB)\n",
      "_________________________________________________________________\n"
     ]
    }
   ],
   "source": [
    "gen_model = make_dcgan_generator()\n",
    "gen_model.summary()"
   ]
  },
  {
   "cell_type": "code",
   "execution_count": 8,
   "id": "0768ca86",
   "metadata": {},
   "outputs": [
    {
     "name": "stdout",
     "output_type": "stream",
     "text": [
      "Model: \"sequential_1\"\n",
      "_________________________________________________________________\n",
      " Layer (type)                Output Shape              Param #   \n",
      "=================================================================\n",
      " conv2d (Conv2D)             (None, 28, 28, 64)        1664      \n",
      "                                                                 \n",
      " batch_normalization_4 (Bat  (None, 28, 28, 64)        256       \n",
      " chNormalization)                                                \n",
      "                                                                 \n",
      " leaky_re_lu_4 (LeakyReLU)   (None, 28, 28, 64)        0         \n",
      "                                                                 \n",
      " conv2d_1 (Conv2D)           (None, 14, 14, 128)       204928    \n",
      "                                                                 \n",
      " batch_normalization_5 (Bat  (None, 14, 14, 128)       512       \n",
      " chNormalization)                                                \n",
      "                                                                 \n",
      " leaky_re_lu_5 (LeakyReLU)   (None, 14, 14, 128)       0         \n",
      "                                                                 \n",
      " dropout (Dropout)           (None, 14, 14, 128)       0         \n",
      "                                                                 \n",
      " conv2d_2 (Conv2D)           (None, 7, 7, 256)         819456    \n",
      "                                                                 \n",
      " batch_normalization_6 (Bat  (None, 7, 7, 256)         1024      \n",
      " chNormalization)                                                \n",
      "                                                                 \n",
      " leaky_re_lu_6 (LeakyReLU)   (None, 7, 7, 256)         0         \n",
      "                                                                 \n",
      " dropout_1 (Dropout)         (None, 7, 7, 256)         0         \n",
      "                                                                 \n",
      " conv2d_3 (Conv2D)           (None, 1, 1, 1)           12545     \n",
      "                                                                 \n",
      " reshape_1 (Reshape)         (None, 1)                 0         \n",
      "                                                                 \n",
      "=================================================================\n",
      "Total params: 1040385 (3.97 MB)\n",
      "Trainable params: 1039489 (3.97 MB)\n",
      "Non-trainable params: 896 (3.50 KB)\n",
      "_________________________________________________________________\n"
     ]
    }
   ],
   "source": [
    "disc_model = make_dcgan_discriminator()\n",
    "disc_model.summary()"
   ]
  },
  {
   "cell_type": "markdown",
   "id": "c23115b2",
   "metadata": {},
   "source": [
    "## Using EM distance in practice for GANs"
   ]
  },
  {
   "cell_type": "markdown",
   "id": "bc630967",
   "metadata": {},
   "source": [
    "## Gradient penalty "
   ]
  },
  {
   "cell_type": "markdown",
   "id": "477bec08",
   "metadata": {},
   "source": [
    "## Implementing WGAN-GP to train the DCGAN model"
   ]
  },
  {
   "cell_type": "code",
   "execution_count": null,
   "id": "cca7f4be",
   "metadata": {},
   "outputs": [],
   "source": []
  }
 ],
 "metadata": {
  "kernelspec": {
   "display_name": "Python 3 (ipykernel)",
   "language": "python",
   "name": "python3"
  },
  "language_info": {
   "codemirror_mode": {
    "name": "ipython",
    "version": 3
   },
   "file_extension": ".py",
   "mimetype": "text/x-python",
   "name": "python",
   "nbconvert_exporter": "python",
   "pygments_lexer": "ipython3",
   "version": "3.11.4"
  }
 },
 "nbformat": 4,
 "nbformat_minor": 5
}
